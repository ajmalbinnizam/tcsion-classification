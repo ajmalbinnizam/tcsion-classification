{
 "cells": [
  {
   "cell_type": "code",
   "execution_count": 1,
   "metadata": {},
   "outputs": [],
   "source": [
    "import nltk\n",
    "import csv\n",
    "import re\n",
    "import pickle\n",
    "import numpy\n",
    "import pandas as pd\n",
    "import numpy as np\n",
    "import string\n",
    "from sklearn.pipeline import Pipeline\n",
    "from textblob import TextBlob\n",
    "from nltk.corpus import stopwords\n",
    "from nltk.stem import WordNetLemmatizer"
   ]
  },
  {
   "cell_type": "code",
   "execution_count": 2,
   "metadata": {},
   "outputs": [],
   "source": [
    "#opening the tsv files and placing them into variable\n",
    "# https://archive.ics.uci.edu/ml/datasets/Drug+Review+Dataset+%28Druglib.com%29\n",
    "# drugtest_raw = open(\"C:\\\\Users\\\\Lenovo\\\\ictds\\\\0 tcs ion classification\\\\tcsion-classificaton\\\\drugLibTest_raw.tsv\")\n",
    "# drugtrain_raw = open(\"C:\\\\Users\\\\Lenovo\\\\ictds\\\\0 tcs ion classification\\\\tcsion-classificaton\\\\drugLibTrain_raw.tsv\")"
   ]
  },
  {
   "cell_type": "code",
   "execution_count": 3,
   "metadata": {},
   "outputs": [],
   "source": [
    "drugTestFrame = pd.read_csv('drugLibTest_raw.tsv', sep = '\\t')\n",
    "drugTrainFrame = pd.read_csv('drugLibTrain_raw.tsv', sep = '\\t')"
   ]
  },
  {
   "cell_type": "code",
   "execution_count": 4,
   "metadata": {},
   "outputs": [
    {
     "data": {
      "text/html": [
       "<div>\n",
       "<style scoped>\n",
       "    .dataframe tbody tr th:only-of-type {\n",
       "        vertical-align: middle;\n",
       "    }\n",
       "\n",
       "    .dataframe tbody tr th {\n",
       "        vertical-align: top;\n",
       "    }\n",
       "\n",
       "    .dataframe thead th {\n",
       "        text-align: right;\n",
       "    }\n",
       "</style>\n",
       "<table border=\"1\" class=\"dataframe\">\n",
       "  <thead>\n",
       "    <tr style=\"text-align: right;\">\n",
       "      <th></th>\n",
       "      <th>Unnamed: 0</th>\n",
       "      <th>urlDrugName</th>\n",
       "      <th>rating</th>\n",
       "      <th>effectiveness</th>\n",
       "      <th>sideEffects</th>\n",
       "      <th>condition</th>\n",
       "      <th>benefitsReview</th>\n",
       "      <th>sideEffectsReview</th>\n",
       "      <th>commentsReview</th>\n",
       "    </tr>\n",
       "  </thead>\n",
       "  <tbody>\n",
       "    <tr>\n",
       "      <th>0</th>\n",
       "      <td>1366</td>\n",
       "      <td>biaxin</td>\n",
       "      <td>9</td>\n",
       "      <td>Considerably Effective</td>\n",
       "      <td>Mild Side Effects</td>\n",
       "      <td>sinus infection</td>\n",
       "      <td>The antibiotic may have destroyed bacteria cau...</td>\n",
       "      <td>Some back pain, some nauseau.</td>\n",
       "      <td>Took the antibiotics for 14 days. Sinus infect...</td>\n",
       "    </tr>\n",
       "    <tr>\n",
       "      <th>1</th>\n",
       "      <td>3724</td>\n",
       "      <td>lamictal</td>\n",
       "      <td>9</td>\n",
       "      <td>Highly Effective</td>\n",
       "      <td>Mild Side Effects</td>\n",
       "      <td>bipolar disorder</td>\n",
       "      <td>Lamictal stabilized my serious mood swings. On...</td>\n",
       "      <td>Drowsiness, a bit of mental numbness. If you t...</td>\n",
       "      <td>Severe mood swings between hypomania and depre...</td>\n",
       "    </tr>\n",
       "    <tr>\n",
       "      <th>2</th>\n",
       "      <td>3824</td>\n",
       "      <td>depakene</td>\n",
       "      <td>4</td>\n",
       "      <td>Moderately Effective</td>\n",
       "      <td>Severe Side Effects</td>\n",
       "      <td>bipolar disorder</td>\n",
       "      <td>Initial benefits were comparable to the brand ...</td>\n",
       "      <td>Depakene has a very thin coating, which caused...</td>\n",
       "      <td>Depakote was prescribed to me by a Kaiser psyc...</td>\n",
       "    </tr>\n",
       "    <tr>\n",
       "      <th>3</th>\n",
       "      <td>969</td>\n",
       "      <td>sarafem</td>\n",
       "      <td>10</td>\n",
       "      <td>Highly Effective</td>\n",
       "      <td>No Side Effects</td>\n",
       "      <td>bi-polar / anxiety</td>\n",
       "      <td>It controlls my mood swings. It helps me think...</td>\n",
       "      <td>I didnt really notice any side effects.</td>\n",
       "      <td>This drug may not be for everyone but its wond...</td>\n",
       "    </tr>\n",
       "    <tr>\n",
       "      <th>4</th>\n",
       "      <td>696</td>\n",
       "      <td>accutane</td>\n",
       "      <td>10</td>\n",
       "      <td>Highly Effective</td>\n",
       "      <td>Mild Side Effects</td>\n",
       "      <td>nodular acne</td>\n",
       "      <td>Within one week of treatment superficial acne ...</td>\n",
       "      <td>Side effects included moderate to severe dry s...</td>\n",
       "      <td>Drug was taken in gelatin tablet at 0.5 mg per...</td>\n",
       "    </tr>\n",
       "    <tr>\n",
       "      <th>5</th>\n",
       "      <td>1380</td>\n",
       "      <td>biaxin</td>\n",
       "      <td>2</td>\n",
       "      <td>Marginally Effective</td>\n",
       "      <td>No Side Effects</td>\n",
       "      <td>sinus infection</td>\n",
       "      <td>By the end of the 10-day treatment I felt bett...</td>\n",
       "      <td>I felt no significant side effects - perhaps s...</td>\n",
       "      <td>Basically the treatment did not seem to work. ...</td>\n",
       "    </tr>\n",
       "    <tr>\n",
       "      <th>6</th>\n",
       "      <td>45</td>\n",
       "      <td>carbamazepine</td>\n",
       "      <td>8</td>\n",
       "      <td>Considerably Effective</td>\n",
       "      <td>Moderate Side Effects</td>\n",
       "      <td>seizure</td>\n",
       "      <td>reduction in seizures reduction in seizures re...</td>\n",
       "      <td>tired/sleepy very tired sleep and tired very t...</td>\n",
       "      <td>took it for seizure took pills drank with wate...</td>\n",
       "    </tr>\n",
       "    <tr>\n",
       "      <th>7</th>\n",
       "      <td>1939</td>\n",
       "      <td>ultram-er</td>\n",
       "      <td>10</td>\n",
       "      <td>Highly Effective</td>\n",
       "      <td>Mild Side Effects</td>\n",
       "      <td>cervical disk degeneration and lower back pain</td>\n",
       "      <td>Ive been taking Tramadol for 2 weeks now. Ive ...</td>\n",
       "      <td>I have had no side effects so far. I hope it s...</td>\n",
       "      <td>Treating for neck, shoulder, arms, lower back,...</td>\n",
       "    </tr>\n",
       "    <tr>\n",
       "      <th>8</th>\n",
       "      <td>2576</td>\n",
       "      <td>klonopin</td>\n",
       "      <td>10</td>\n",
       "      <td>Highly Effective</td>\n",
       "      <td>No Side Effects</td>\n",
       "      <td>panic disorder</td>\n",
       "      <td>I immediately stopped having panic attacks.  I...</td>\n",
       "      <td>I experienced no side effects.  I was not tire...</td>\n",
       "      <td>I started both klonopin and prozac together.  ...</td>\n",
       "    </tr>\n",
       "    <tr>\n",
       "      <th>9</th>\n",
       "      <td>1093</td>\n",
       "      <td>effexor</td>\n",
       "      <td>1</td>\n",
       "      <td>Marginally Effective</td>\n",
       "      <td>Extremely Severe Side Effects</td>\n",
       "      <td>depression</td>\n",
       "      <td>the presumed benefits were to help with a seve...</td>\n",
       "      <td>here we go.the initial effect would be dry mou...</td>\n",
       "      <td>family doctor initially prescribed wellbutin b...</td>\n",
       "    </tr>\n",
       "  </tbody>\n",
       "</table>\n",
       "</div>"
      ],
      "text/plain": [
       "   Unnamed: 0    urlDrugName  rating           effectiveness  \\\n",
       "0        1366         biaxin       9  Considerably Effective   \n",
       "1        3724       lamictal       9        Highly Effective   \n",
       "2        3824       depakene       4    Moderately Effective   \n",
       "3         969        sarafem      10        Highly Effective   \n",
       "4         696       accutane      10        Highly Effective   \n",
       "5        1380         biaxin       2    Marginally Effective   \n",
       "6          45  carbamazepine       8  Considerably Effective   \n",
       "7        1939      ultram-er      10        Highly Effective   \n",
       "8        2576       klonopin      10        Highly Effective   \n",
       "9        1093        effexor       1    Marginally Effective   \n",
       "\n",
       "                     sideEffects  \\\n",
       "0              Mild Side Effects   \n",
       "1              Mild Side Effects   \n",
       "2            Severe Side Effects   \n",
       "3                No Side Effects   \n",
       "4              Mild Side Effects   \n",
       "5                No Side Effects   \n",
       "6          Moderate Side Effects   \n",
       "7              Mild Side Effects   \n",
       "8                No Side Effects   \n",
       "9  Extremely Severe Side Effects   \n",
       "\n",
       "                                        condition  \\\n",
       "0                                 sinus infection   \n",
       "1                                bipolar disorder   \n",
       "2                                bipolar disorder   \n",
       "3                              bi-polar / anxiety   \n",
       "4                                    nodular acne   \n",
       "5                                 sinus infection   \n",
       "6                                         seizure   \n",
       "7  cervical disk degeneration and lower back pain   \n",
       "8                                  panic disorder   \n",
       "9                                      depression   \n",
       "\n",
       "                                      benefitsReview  \\\n",
       "0  The antibiotic may have destroyed bacteria cau...   \n",
       "1  Lamictal stabilized my serious mood swings. On...   \n",
       "2  Initial benefits were comparable to the brand ...   \n",
       "3  It controlls my mood swings. It helps me think...   \n",
       "4  Within one week of treatment superficial acne ...   \n",
       "5  By the end of the 10-day treatment I felt bett...   \n",
       "6  reduction in seizures reduction in seizures re...   \n",
       "7  Ive been taking Tramadol for 2 weeks now. Ive ...   \n",
       "8  I immediately stopped having panic attacks.  I...   \n",
       "9  the presumed benefits were to help with a seve...   \n",
       "\n",
       "                                   sideEffectsReview  \\\n",
       "0                      Some back pain, some nauseau.   \n",
       "1  Drowsiness, a bit of mental numbness. If you t...   \n",
       "2  Depakene has a very thin coating, which caused...   \n",
       "3            I didnt really notice any side effects.   \n",
       "4  Side effects included moderate to severe dry s...   \n",
       "5  I felt no significant side effects - perhaps s...   \n",
       "6  tired/sleepy very tired sleep and tired very t...   \n",
       "7  I have had no side effects so far. I hope it s...   \n",
       "8  I experienced no side effects.  I was not tire...   \n",
       "9  here we go.the initial effect would be dry mou...   \n",
       "\n",
       "                                      commentsReview  \n",
       "0  Took the antibiotics for 14 days. Sinus infect...  \n",
       "1  Severe mood swings between hypomania and depre...  \n",
       "2  Depakote was prescribed to me by a Kaiser psyc...  \n",
       "3  This drug may not be for everyone but its wond...  \n",
       "4  Drug was taken in gelatin tablet at 0.5 mg per...  \n",
       "5  Basically the treatment did not seem to work. ...  \n",
       "6  took it for seizure took pills drank with wate...  \n",
       "7  Treating for neck, shoulder, arms, lower back,...  \n",
       "8  I started both klonopin and prozac together.  ...  \n",
       "9  family doctor initially prescribed wellbutin b...  "
      ]
     },
     "execution_count": 4,
     "metadata": {},
     "output_type": "execute_result"
    }
   ],
   "source": [
    "df = pd.concat([drugTestFrame, drugTrainFrame])\n",
    "df.head(10)"
   ]
  },
  {
   "cell_type": "code",
   "execution_count": 5,
   "metadata": {},
   "outputs": [],
   "source": [
    "df = df.drop(['Unnamed: 0'], axis = 1)\n"
   ]
  },
  {
   "cell_type": "code",
   "execution_count": 6,
   "metadata": {},
   "outputs": [
    {
     "data": {
      "text/html": [
       "<div>\n",
       "<style scoped>\n",
       "    .dataframe tbody tr th:only-of-type {\n",
       "        vertical-align: middle;\n",
       "    }\n",
       "\n",
       "    .dataframe tbody tr th {\n",
       "        vertical-align: top;\n",
       "    }\n",
       "\n",
       "    .dataframe thead th {\n",
       "        text-align: right;\n",
       "    }\n",
       "</style>\n",
       "<table border=\"1\" class=\"dataframe\">\n",
       "  <thead>\n",
       "    <tr style=\"text-align: right;\">\n",
       "      <th></th>\n",
       "      <th>rating</th>\n",
       "    </tr>\n",
       "  </thead>\n",
       "  <tbody>\n",
       "    <tr>\n",
       "      <th>count</th>\n",
       "      <td>4143.000000</td>\n",
       "    </tr>\n",
       "    <tr>\n",
       "      <th>mean</th>\n",
       "      <td>6.946416</td>\n",
       "    </tr>\n",
       "    <tr>\n",
       "      <th>std</th>\n",
       "      <td>2.948868</td>\n",
       "    </tr>\n",
       "    <tr>\n",
       "      <th>min</th>\n",
       "      <td>1.000000</td>\n",
       "    </tr>\n",
       "    <tr>\n",
       "      <th>25%</th>\n",
       "      <td>5.000000</td>\n",
       "    </tr>\n",
       "    <tr>\n",
       "      <th>50%</th>\n",
       "      <td>8.000000</td>\n",
       "    </tr>\n",
       "    <tr>\n",
       "      <th>75%</th>\n",
       "      <td>9.000000</td>\n",
       "    </tr>\n",
       "    <tr>\n",
       "      <th>max</th>\n",
       "      <td>10.000000</td>\n",
       "    </tr>\n",
       "  </tbody>\n",
       "</table>\n",
       "</div>"
      ],
      "text/plain": [
       "            rating\n",
       "count  4143.000000\n",
       "mean      6.946416\n",
       "std       2.948868\n",
       "min       1.000000\n",
       "25%       5.000000\n",
       "50%       8.000000\n",
       "75%       9.000000\n",
       "max      10.000000"
      ]
     },
     "execution_count": 6,
     "metadata": {},
     "output_type": "execute_result"
    }
   ],
   "source": [
    "df.describe()"
   ]
  },
  {
   "cell_type": "code",
   "execution_count": 7,
   "metadata": {},
   "outputs": [
    {
     "data": {
      "text/plain": [
       "urlDrugName          0\n",
       "rating               0\n",
       "effectiveness        0\n",
       "sideEffects          0\n",
       "condition            1\n",
       "benefitsReview       0\n",
       "sideEffectsReview    2\n",
       "commentsReview       8\n",
       "dtype: int64"
      ]
     },
     "execution_count": 7,
     "metadata": {},
     "output_type": "execute_result"
    }
   ],
   "source": [
    "df.isna().sum()"
   ]
  },
  {
   "cell_type": "code",
   "execution_count": 8,
   "metadata": {},
   "outputs": [],
   "source": [
    "df = df.dropna()"
   ]
  },
  {
   "cell_type": "code",
   "execution_count": 9,
   "metadata": {},
   "outputs": [
    {
     "data": {
      "text/plain": [
       "urlDrugName          0\n",
       "rating               0\n",
       "effectiveness        0\n",
       "sideEffects          0\n",
       "condition            0\n",
       "benefitsReview       0\n",
       "sideEffectsReview    0\n",
       "commentsReview       0\n",
       "dtype: int64"
      ]
     },
     "execution_count": 9,
     "metadata": {},
     "output_type": "execute_result"
    }
   ],
   "source": [
    "df.isna().sum()"
   ]
  },
  {
   "cell_type": "code",
   "execution_count": 10,
   "metadata": {},
   "outputs": [],
   "source": [
    "df = df[['rating', 'urlDrugName', 'effectiveness', 'sideEffects', 'condition', 'benefitsReview', 'sideEffectsReview', 'commentsReview']]"
   ]
  },
  {
   "cell_type": "code",
   "execution_count": 11,
   "metadata": {},
   "outputs": [
    {
     "name": "stdout",
     "output_type": "stream",
     "text": [
      "congrats you are safe there is no null values :\n",
      "rating               0\n",
      "urlDrugName          0\n",
      "effectiveness        0\n",
      "sideEffects          0\n",
      "condition            0\n",
      "benefitsReview       0\n",
      "sideEffectsReview    0\n",
      "commentsReview       0\n",
      "dtype: int64\n"
     ]
    }
   ],
   "source": [
    "\n",
    "# checking if there are null values in the data\n",
    "print(\"congrats you are safe there is no null values :\")\n",
    "print(df.isna().sum())"
   ]
  },
  {
   "cell_type": "code",
   "execution_count": 12,
   "metadata": {},
   "outputs": [],
   "source": [
    "\n",
    "df['combinedReview'] = df[['benefitsReview', 'sideEffectsReview', 'commentsReview']].agg(' '.join, axis=1)"
   ]
  },
  {
   "cell_type": "code",
   "execution_count": 13,
   "metadata": {},
   "outputs": [
    {
     "data": {
      "text/html": [
       "<div>\n",
       "<style scoped>\n",
       "    .dataframe tbody tr th:only-of-type {\n",
       "        vertical-align: middle;\n",
       "    }\n",
       "\n",
       "    .dataframe tbody tr th {\n",
       "        vertical-align: top;\n",
       "    }\n",
       "\n",
       "    .dataframe thead th {\n",
       "        text-align: right;\n",
       "    }\n",
       "</style>\n",
       "<table border=\"1\" class=\"dataframe\">\n",
       "  <thead>\n",
       "    <tr style=\"text-align: right;\">\n",
       "      <th></th>\n",
       "      <th>rating</th>\n",
       "      <th>urlDrugName</th>\n",
       "      <th>effectiveness</th>\n",
       "      <th>sideEffects</th>\n",
       "      <th>condition</th>\n",
       "      <th>benefitsReview</th>\n",
       "      <th>sideEffectsReview</th>\n",
       "      <th>commentsReview</th>\n",
       "      <th>combinedReview</th>\n",
       "    </tr>\n",
       "  </thead>\n",
       "  <tbody>\n",
       "    <tr>\n",
       "      <th>0</th>\n",
       "      <td>9</td>\n",
       "      <td>biaxin</td>\n",
       "      <td>Considerably Effective</td>\n",
       "      <td>Mild Side Effects</td>\n",
       "      <td>sinus infection</td>\n",
       "      <td>The antibiotic may have destroyed bacteria cau...</td>\n",
       "      <td>Some back pain, some nauseau.</td>\n",
       "      <td>Took the antibiotics for 14 days. Sinus infect...</td>\n",
       "      <td>The antibiotic may have destroyed bacteria cau...</td>\n",
       "    </tr>\n",
       "    <tr>\n",
       "      <th>1</th>\n",
       "      <td>9</td>\n",
       "      <td>lamictal</td>\n",
       "      <td>Highly Effective</td>\n",
       "      <td>Mild Side Effects</td>\n",
       "      <td>bipolar disorder</td>\n",
       "      <td>Lamictal stabilized my serious mood swings. On...</td>\n",
       "      <td>Drowsiness, a bit of mental numbness. If you t...</td>\n",
       "      <td>Severe mood swings between hypomania and depre...</td>\n",
       "      <td>Lamictal stabilized my serious mood swings. On...</td>\n",
       "    </tr>\n",
       "    <tr>\n",
       "      <th>2</th>\n",
       "      <td>4</td>\n",
       "      <td>depakene</td>\n",
       "      <td>Moderately Effective</td>\n",
       "      <td>Severe Side Effects</td>\n",
       "      <td>bipolar disorder</td>\n",
       "      <td>Initial benefits were comparable to the brand ...</td>\n",
       "      <td>Depakene has a very thin coating, which caused...</td>\n",
       "      <td>Depakote was prescribed to me by a Kaiser psyc...</td>\n",
       "      <td>Initial benefits were comparable to the brand ...</td>\n",
       "    </tr>\n",
       "    <tr>\n",
       "      <th>3</th>\n",
       "      <td>10</td>\n",
       "      <td>sarafem</td>\n",
       "      <td>Highly Effective</td>\n",
       "      <td>No Side Effects</td>\n",
       "      <td>bi-polar / anxiety</td>\n",
       "      <td>It controlls my mood swings. It helps me think...</td>\n",
       "      <td>I didnt really notice any side effects.</td>\n",
       "      <td>This drug may not be for everyone but its wond...</td>\n",
       "      <td>It controlls my mood swings. It helps me think...</td>\n",
       "    </tr>\n",
       "    <tr>\n",
       "      <th>4</th>\n",
       "      <td>10</td>\n",
       "      <td>accutane</td>\n",
       "      <td>Highly Effective</td>\n",
       "      <td>Mild Side Effects</td>\n",
       "      <td>nodular acne</td>\n",
       "      <td>Within one week of treatment superficial acne ...</td>\n",
       "      <td>Side effects included moderate to severe dry s...</td>\n",
       "      <td>Drug was taken in gelatin tablet at 0.5 mg per...</td>\n",
       "      <td>Within one week of treatment superficial acne ...</td>\n",
       "    </tr>\n",
       "  </tbody>\n",
       "</table>\n",
       "</div>"
      ],
      "text/plain": [
       "   rating urlDrugName           effectiveness          sideEffects  \\\n",
       "0       9      biaxin  Considerably Effective    Mild Side Effects   \n",
       "1       9    lamictal        Highly Effective    Mild Side Effects   \n",
       "2       4    depakene    Moderately Effective  Severe Side Effects   \n",
       "3      10     sarafem        Highly Effective      No Side Effects   \n",
       "4      10    accutane        Highly Effective    Mild Side Effects   \n",
       "\n",
       "            condition                                     benefitsReview  \\\n",
       "0     sinus infection  The antibiotic may have destroyed bacteria cau...   \n",
       "1    bipolar disorder  Lamictal stabilized my serious mood swings. On...   \n",
       "2    bipolar disorder  Initial benefits were comparable to the brand ...   \n",
       "3  bi-polar / anxiety  It controlls my mood swings. It helps me think...   \n",
       "4        nodular acne  Within one week of treatment superficial acne ...   \n",
       "\n",
       "                                   sideEffectsReview  \\\n",
       "0                      Some back pain, some nauseau.   \n",
       "1  Drowsiness, a bit of mental numbness. If you t...   \n",
       "2  Depakene has a very thin coating, which caused...   \n",
       "3            I didnt really notice any side effects.   \n",
       "4  Side effects included moderate to severe dry s...   \n",
       "\n",
       "                                      commentsReview  \\\n",
       "0  Took the antibiotics for 14 days. Sinus infect...   \n",
       "1  Severe mood swings between hypomania and depre...   \n",
       "2  Depakote was prescribed to me by a Kaiser psyc...   \n",
       "3  This drug may not be for everyone but its wond...   \n",
       "4  Drug was taken in gelatin tablet at 0.5 mg per...   \n",
       "\n",
       "                                      combinedReview  \n",
       "0  The antibiotic may have destroyed bacteria cau...  \n",
       "1  Lamictal stabilized my serious mood swings. On...  \n",
       "2  Initial benefits were comparable to the brand ...  \n",
       "3  It controlls my mood swings. It helps me think...  \n",
       "4  Within one week of treatment superficial acne ...  "
      ]
     },
     "execution_count": 13,
     "metadata": {},
     "output_type": "execute_result"
    }
   ],
   "source": [
    "# df['combinedReview'].head(1)\n",
    "df.head()"
   ]
  },
  {
   "cell_type": "code",
   "execution_count": 14,
   "metadata": {},
   "outputs": [],
   "source": [
    "#preprocessing\n",
    "#replace commas with space\n",
    "df['combinedReview'] = df['combinedReview'].str.replace(',', ' ')\n",
    "\n",
    "# Removing prefixed 'b'\n",
    "df['combinedReview'] = df['combinedReview'].str.replace(r'^b\\s+', ' ')\n",
    "\n",
    "# Converting to Lowercase\n",
    "df['combinedReview'] = df['combinedReview'].str.lower()\n",
    "\n",
    "# remove numbers\n",
    "df['combinedReview'] = df['combinedReview'].str.replace(r' \\d+', ' ')\n",
    "\n",
    "# Substituting multiple spaces with single space\n",
    "df['combinedReview'] = df['combinedReview'].str.replace(r'\\s+', ' ')\n",
    "\n",
    "# remove all single characters\n",
    "df['combinedReview'] = df['combinedReview'].str.replace(r'\\s+[a-zA-Z]\\s+', ' ')\n"
   ]
  },
  {
   "cell_type": "code",
   "execution_count": 15,
   "metadata": {},
   "outputs": [],
   "source": [
    "#  nltk.download()"
   ]
  },
  {
   "cell_type": "code",
   "execution_count": 16,
   "metadata": {},
   "outputs": [],
   "source": [
    "\n",
    "#Stemming words into fewer letter words\n",
    "stemmer = WordNetLemmatizer()\n",
    "df['combinedReview'] = [stemmer.lemmatize(word) for word in df['combinedReview']]"
   ]
  },
  {
   "cell_type": "code",
   "execution_count": 17,
   "metadata": {},
   "outputs": [],
   "source": [
    "# # Function for extracting ONLY NOUNS AND VERBS\n",
    "# # Getting nouns and verbs\n",
    "# def get_adjectives(text):\n",
    "#     blob = TextBlob(text)\n",
    "#     return [word for (word, tag) in blob.tags if tag == 'NN' or tag == 'VB']\n",
    "\n",
    "# df['combinedReview'] = df['combinedReview'].apply(get_adjectives)\n",
    "\n",
    "# # Function for converting LIST TO STRINGS\n",
    "# # Reducing List to Strings\n",
    "# def listToString(s):\n",
    "#     str1 = \"\"\n",
    "\n",
    "#     for ele in s:\n",
    "#         str1 += \" \" + ele\n",
    "\n",
    "#     return str1\n",
    "\n",
    "# df['combinedReview'] = df['combinedReview'].apply(listToString)"
   ]
  },
  {
   "cell_type": "code",
   "execution_count": 18,
   "metadata": {},
   "outputs": [],
   "source": [
    "#Label Encoding y values (Side Effects)\n",
    "from sklearn.preprocessing import LabelEncoder\n",
    "label_encoder = LabelEncoder()\n",
    "y = label_encoder.fit_transform(df['sideEffects'])"
   ]
  },
  {
   "cell_type": "code",
   "execution_count": 19,
   "metadata": {},
   "outputs": [],
   "source": [
    "#Encoding the X features\n",
    "from sklearn.preprocessing import OneHotEncoder\n",
    "onehotencoder = OneHotEncoder()\n",
    "X = onehotencoder.fit_transform(df[['combinedReview']])"
   ]
  },
  {
   "cell_type": "code",
   "execution_count": 20,
   "metadata": {},
   "outputs": [],
   "source": [
    "stop_words = set(stopwords.words('english'))"
   ]
  },
  {
   "cell_type": "code",
   "execution_count": 21,
   "metadata": {},
   "outputs": [],
   "source": [
    "#For sentences\n",
    "from sklearn.feature_extraction.text import TfidfVectorizer\n",
    "tfidvectorizer = TfidfVectorizer(max_features=2500, min_df=5, max_df=0.7, stop_words=stopwords.words('english'))\n",
    "tfidvectorizer.fit(df['combinedReview'])\n",
    "X = tfidvectorizer.fit_transform(df['combinedReview'])"
   ]
  },
  {
   "cell_type": "code",
   "execution_count": 22,
   "metadata": {},
   "outputs": [
    {
     "data": {
      "text/html": [
       "<div>\n",
       "<style scoped>\n",
       "    .dataframe tbody tr th:only-of-type {\n",
       "        vertical-align: middle;\n",
       "    }\n",
       "\n",
       "    .dataframe tbody tr th {\n",
       "        vertical-align: top;\n",
       "    }\n",
       "\n",
       "    .dataframe thead th {\n",
       "        text-align: right;\n",
       "    }\n",
       "</style>\n",
       "<table border=\"1\" class=\"dataframe\">\n",
       "  <thead>\n",
       "    <tr style=\"text-align: right;\">\n",
       "      <th></th>\n",
       "      <th>rating</th>\n",
       "      <th>urlDrugName</th>\n",
       "      <th>effectiveness</th>\n",
       "      <th>sideEffects</th>\n",
       "      <th>condition</th>\n",
       "      <th>benefitsReview</th>\n",
       "      <th>sideEffectsReview</th>\n",
       "      <th>commentsReview</th>\n",
       "      <th>combinedReview</th>\n",
       "    </tr>\n",
       "  </thead>\n",
       "  <tbody>\n",
       "    <tr>\n",
       "      <th>0</th>\n",
       "      <td>9</td>\n",
       "      <td>biaxin</td>\n",
       "      <td>Considerably Effective</td>\n",
       "      <td>Mild Side Effects</td>\n",
       "      <td>sinus infection</td>\n",
       "      <td>The antibiotic may have destroyed bacteria cau...</td>\n",
       "      <td>Some back pain, some nauseau.</td>\n",
       "      <td>Took the antibiotics for 14 days. Sinus infect...</td>\n",
       "      <td>the antibiotic may have destroyed bacteria cau...</td>\n",
       "    </tr>\n",
       "    <tr>\n",
       "      <th>1</th>\n",
       "      <td>9</td>\n",
       "      <td>lamictal</td>\n",
       "      <td>Highly Effective</td>\n",
       "      <td>Mild Side Effects</td>\n",
       "      <td>bipolar disorder</td>\n",
       "      <td>Lamictal stabilized my serious mood swings. On...</td>\n",
       "      <td>Drowsiness, a bit of mental numbness. If you t...</td>\n",
       "      <td>Severe mood swings between hypomania and depre...</td>\n",
       "      <td>lamictal stabilized my serious mood swings. on...</td>\n",
       "    </tr>\n",
       "    <tr>\n",
       "      <th>2</th>\n",
       "      <td>4</td>\n",
       "      <td>depakene</td>\n",
       "      <td>Moderately Effective</td>\n",
       "      <td>Severe Side Effects</td>\n",
       "      <td>bipolar disorder</td>\n",
       "      <td>Initial benefits were comparable to the brand ...</td>\n",
       "      <td>Depakene has a very thin coating, which caused...</td>\n",
       "      <td>Depakote was prescribed to me by a Kaiser psyc...</td>\n",
       "      <td>initial benefits were comparable to the brand ...</td>\n",
       "    </tr>\n",
       "    <tr>\n",
       "      <th>3</th>\n",
       "      <td>10</td>\n",
       "      <td>sarafem</td>\n",
       "      <td>Highly Effective</td>\n",
       "      <td>No Side Effects</td>\n",
       "      <td>bi-polar / anxiety</td>\n",
       "      <td>It controlls my mood swings. It helps me think...</td>\n",
       "      <td>I didnt really notice any side effects.</td>\n",
       "      <td>This drug may not be for everyone but its wond...</td>\n",
       "      <td>it controlls my mood swings. it helps me think...</td>\n",
       "    </tr>\n",
       "    <tr>\n",
       "      <th>4</th>\n",
       "      <td>10</td>\n",
       "      <td>accutane</td>\n",
       "      <td>Highly Effective</td>\n",
       "      <td>Mild Side Effects</td>\n",
       "      <td>nodular acne</td>\n",
       "      <td>Within one week of treatment superficial acne ...</td>\n",
       "      <td>Side effects included moderate to severe dry s...</td>\n",
       "      <td>Drug was taken in gelatin tablet at 0.5 mg per...</td>\n",
       "      <td>within one week of treatment superficial acne ...</td>\n",
       "    </tr>\n",
       "  </tbody>\n",
       "</table>\n",
       "</div>"
      ],
      "text/plain": [
       "   rating urlDrugName           effectiveness          sideEffects  \\\n",
       "0       9      biaxin  Considerably Effective    Mild Side Effects   \n",
       "1       9    lamictal        Highly Effective    Mild Side Effects   \n",
       "2       4    depakene    Moderately Effective  Severe Side Effects   \n",
       "3      10     sarafem        Highly Effective      No Side Effects   \n",
       "4      10    accutane        Highly Effective    Mild Side Effects   \n",
       "\n",
       "            condition                                     benefitsReview  \\\n",
       "0     sinus infection  The antibiotic may have destroyed bacteria cau...   \n",
       "1    bipolar disorder  Lamictal stabilized my serious mood swings. On...   \n",
       "2    bipolar disorder  Initial benefits were comparable to the brand ...   \n",
       "3  bi-polar / anxiety  It controlls my mood swings. It helps me think...   \n",
       "4        nodular acne  Within one week of treatment superficial acne ...   \n",
       "\n",
       "                                   sideEffectsReview  \\\n",
       "0                      Some back pain, some nauseau.   \n",
       "1  Drowsiness, a bit of mental numbness. If you t...   \n",
       "2  Depakene has a very thin coating, which caused...   \n",
       "3            I didnt really notice any side effects.   \n",
       "4  Side effects included moderate to severe dry s...   \n",
       "\n",
       "                                      commentsReview  \\\n",
       "0  Took the antibiotics for 14 days. Sinus infect...   \n",
       "1  Severe mood swings between hypomania and depre...   \n",
       "2  Depakote was prescribed to me by a Kaiser psyc...   \n",
       "3  This drug may not be for everyone but its wond...   \n",
       "4  Drug was taken in gelatin tablet at 0.5 mg per...   \n",
       "\n",
       "                                      combinedReview  \n",
       "0  the antibiotic may have destroyed bacteria cau...  \n",
       "1  lamictal stabilized my serious mood swings. on...  \n",
       "2  initial benefits were comparable to the brand ...  \n",
       "3  it controlls my mood swings. it helps me think...  \n",
       "4  within one week of treatment superficial acne ...  "
      ]
     },
     "execution_count": 22,
     "metadata": {},
     "output_type": "execute_result"
    }
   ],
   "source": [
    "df.head()"
   ]
  },
  {
   "cell_type": "code",
   "execution_count": 23,
   "metadata": {},
   "outputs": [],
   "source": [
    "# #Test Splits\n",
    "from sklearn.model_selection import train_test_split\n",
    "X_train, X_test, y_train, y_test = train_test_split(X, y, test_size=0.25, random_state=0)\n"
   ]
  },
  {
   "cell_type": "code",
   "execution_count": 24,
   "metadata": {},
   "outputs": [],
   "source": [
    "#Random Forest Classifier\n",
    "from sklearn.ensemble import RandomForestClassifier\n",
    "classifier = RandomForestClassifier(n_estimators=1000, random_state=0)\n",
    "classifier.fit(X_train, y_train)\n",
    "y_pred = classifier.predict(X_test)"
   ]
  },
  {
   "cell_type": "code",
   "execution_count": 25,
   "metadata": {},
   "outputs": [
    {
     "name": "stdout",
     "output_type": "stream",
     "text": [
      "RandomForest Classifier Accuracy: 0.5227492739593417\n"
     ]
    }
   ],
   "source": [
    "\n",
    "from sklearn.metrics import classification_report, confusion_matrix, accuracy_score\n",
    "print(\"RandomForest Classifier Accuracy:\", accuracy_score(y_test, y_pred))"
   ]
  },
  {
   "cell_type": "code",
   "execution_count": 26,
   "metadata": {},
   "outputs": [
    {
     "name": "stdout",
     "output_type": "stream",
     "text": [
      "[[  1  31   7  21   7]\n",
      " [  0 284   6  52   1]\n",
      " [  0 151  12  39   2]\n",
      " [  0  74   2 225   0]\n",
      " [  0  62  10  28  18]]\n",
      "              precision    recall  f1-score   support\n",
      "\n",
      "           0       1.00      0.01      0.03        67\n",
      "           1       0.47      0.83      0.60       343\n",
      "           2       0.32      0.06      0.10       204\n",
      "           3       0.62      0.75      0.68       301\n",
      "           4       0.64      0.15      0.25       118\n",
      "\n",
      "    accuracy                           0.52      1033\n",
      "   macro avg       0.61      0.36      0.33      1033\n",
      "weighted avg       0.54      0.52      0.45      1033\n",
      "\n"
     ]
    }
   ],
   "source": [
    "# THIS IS THE FPR VALUES and report\n",
    "#######################################\n",
    "print(confusion_matrix(y_test, y_pred))\n",
    "print(classification_report(y_test, y_pred))\n",
    "######################################"
   ]
  },
  {
   "cell_type": "code",
   "execution_count": 27,
   "metadata": {},
   "outputs": [
    {
     "name": "stdout",
     "output_type": "stream",
     "text": [
      "Bernoulli NB Accuracy:  0.4830590513068732\n"
     ]
    }
   ],
   "source": [
    "from sklearn.naive_bayes import BernoulliNB\n",
    "clf = BernoulliNB()\n",
    "clf.fit(X_train, y_train)\n",
    "y_pred = clf.predict(X_test)\n",
    "print(\"Bernoulli NB Accuracy: \", accuracy_score(y_test, y_pred))"
   ]
  },
  {
   "cell_type": "code",
   "execution_count": 28,
   "metadata": {},
   "outputs": [
    {
     "name": "stdout",
     "output_type": "stream",
     "text": [
      "[[ 19   4   5  15  24]\n",
      " [ 11 163  42 113  14]\n",
      " [  7  75  51  55  16]\n",
      " [  4  47  12 228  10]\n",
      " [  7  17  28  28  38]]\n",
      "              precision    recall  f1-score   support\n",
      "\n",
      "           0       0.40      0.28      0.33        67\n",
      "           1       0.53      0.48      0.50       343\n",
      "           2       0.37      0.25      0.30       204\n",
      "           3       0.52      0.76      0.62       301\n",
      "           4       0.37      0.32      0.35       118\n",
      "\n",
      "    accuracy                           0.48      1033\n",
      "   macro avg       0.44      0.42      0.42      1033\n",
      "weighted avg       0.47      0.48      0.47      1033\n",
      "\n"
     ]
    }
   ],
   "source": [
    "\n",
    "# THIS IS THE FPR VALUES and report\n",
    "#######################################\n",
    "print(confusion_matrix(y_test, y_pred))\n",
    "print(classification_report(y_test, y_pred))\n",
    "#######################################"
   ]
  },
  {
   "cell_type": "code",
   "execution_count": 29,
   "metadata": {},
   "outputs": [],
   "source": [
    "# # print the final csv file out\n",
    "# df.sort_values(['rating'], ascending=False, inplace=True)\n",
    "# df.to_csv('drugLib_processed3.csv', index=False)\n",
    "\n"
   ]
  },
  {
   "cell_type": "code",
   "execution_count": 30,
   "metadata": {},
   "outputs": [],
   "source": [
    "# import os\n",
    "# os.stat('drugLib_processed3.csv').st_size\n",
    "# print(df.info())"
   ]
  },
  {
   "cell_type": "code",
   "execution_count": 31,
   "metadata": {},
   "outputs": [],
   "source": [
    "# df = pd.read_csv('drugLib_processed3.csv')\n",
    "# df.head()"
   ]
  },
  {
   "cell_type": "code",
   "execution_count": null,
   "metadata": {},
   "outputs": [],
   "source": []
  }
 ],
 "metadata": {
  "kernelspec": {
   "display_name": "Python 3",
   "language": "python",
   "name": "python3"
  },
  "language_info": {
   "codemirror_mode": {
    "name": "ipython",
    "version": 3
   },
   "file_extension": ".py",
   "mimetype": "text/x-python",
   "name": "python",
   "nbconvert_exporter": "python",
   "pygments_lexer": "ipython3",
   "version": "3.7.6"
  }
 },
 "nbformat": 4,
 "nbformat_minor": 4
}
