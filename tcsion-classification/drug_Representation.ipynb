{
 "cells": [
  {
   "cell_type": "code",
   "execution_count": 1,
   "metadata": {
    "colab": {},
    "colab_type": "code",
    "id": "hKkJ8MSTqx4p"
   },
   "outputs": [],
   "source": [
    "import pandas as pd\n",
    "from sklearn.linear_model import LogisticRegression\n",
    "from sklearn.model_selection import train_test_split\n",
    "from sklearn.preprocessing import OneHotEncoder,LabelEncoder\n",
    "from sklearn.feature_extraction.text import TfidfVectorizer, CountVectorizer,HashingVectorizer"
   ]
  },
  {
   "cell_type": "markdown",
   "metadata": {
    "colab_type": "text",
    "id": "PwSkmWZRBNRh"
   },
   "source": [
    "## DATASET : Drug Review Dataset (Druglib.com) Data Set\n",
    "https://archive.ics.uci.edu/ml/datasets/Drug+Review+Dataset+%28Druglib.com%29"
   ]
  },
  {
   "cell_type": "code",
   "execution_count": 2,
   "metadata": {
    "colab": {
     "base_uri": "https://localhost:8080/",
     "height": 204
    },
    "colab_type": "code",
    "id": "Xa-4-0oV_Obu",
    "outputId": "16bb0c59-e3ca-44b2-dc57-4e45093d8ac1"
   },
   "outputs": [
    {
     "name": "stderr",
     "output_type": "stream",
     "text": [
      "'wget' is not recognized as an internal or external command,\n",
      "operable program or batch file.\n"
     ]
    }
   ],
   "source": [
    "!wget https://archive.ics.uci.edu/ml/machine-learning-databases/00461/drugLib_raw.zip"
   ]
  },
  {
   "cell_type": "markdown",
   "metadata": {
    "colab_type": "text",
    "id": "A7GQ6vyn94ka"
   },
   "source": []
  },
  {
   "cell_type": "code",
   "execution_count": 3,
   "metadata": {
    "colab": {
     "base_uri": "https://localhost:8080/",
     "height": 68
    },
    "colab_type": "code",
    "id": "d8Bs24ds_Sam",
    "outputId": "a9af4add-6f27-4c1a-ac11-cd4a8981937f"
   },
   "outputs": [
    {
     "name": "stderr",
     "output_type": "stream",
     "text": [
      "'unzip' is not recognized as an internal or external command,\n",
      "operable program or batch file.\n"
     ]
    }
   ],
   "source": [
    "!unzip 'drugLib_raw.zip'"
   ]
  },
  {
   "cell_type": "code",
   "execution_count": 4,
   "metadata": {
    "colab": {},
    "colab_type": "code",
    "id": "4BrpMLRs7pnU"
   },
   "outputs": [],
   "source": [
    "\n",
    "drug_lib_test_df = pd.read_csv('drugLibTest_raw.tsv',sep='\\t',index_col=0)"
   ]
  },
  {
   "cell_type": "code",
   "execution_count": 5,
   "metadata": {
    "colab": {},
    "colab_type": "code",
    "id": "evBxPB-5_HXw"
   },
   "outputs": [],
   "source": [
    "#drug_lib_test_df.head()"
   ]
  },
  {
   "cell_type": "code",
   "execution_count": 6,
   "metadata": {
    "colab": {},
    "colab_type": "code",
    "id": "jHA_tN3wAcP1"
   },
   "outputs": [],
   "source": [
    "drug_lib_train_df = pd.read_csv('drugLibTrain_raw.tsv',sep='\\t',index_col=0)"
   ]
  },
  {
   "cell_type": "code",
   "execution_count": 7,
   "metadata": {
    "colab": {},
    "colab_type": "code",
    "id": "2TSPGUuPF501"
   },
   "outputs": [],
   "source": [
    "#drug_lib_train_df.head()"
   ]
  },
  {
   "cell_type": "code",
   "execution_count": 8,
   "metadata": {
    "colab": {},
    "colab_type": "code",
    "id": "T6DxUyZxF8vl"
   },
   "outputs": [],
   "source": [
    "drug_reviews_df = pd.concat([drug_lib_test_df,drug_lib_train_df])"
   ]
  },
  {
   "cell_type": "code",
   "execution_count": 9,
   "metadata": {
    "colab": {
     "base_uri": "https://localhost:8080/",
     "height": 238
    },
    "colab_type": "code",
    "id": "s7xaqookGdb1",
    "outputId": "c416eb51-0ba5-43ff-f039-07e013375448"
   },
   "outputs": [
    {
     "name": "stdout",
     "output_type": "stream",
     "text": [
      "<class 'pandas.core.frame.DataFrame'>\n",
      "Int64Index: 4143 entries, 1366 to 2748\n",
      "Data columns (total 8 columns):\n",
      " #   Column             Non-Null Count  Dtype \n",
      "---  ------             --------------  ----- \n",
      " 0   urlDrugName        4143 non-null   object\n",
      " 1   rating             4143 non-null   int64 \n",
      " 2   effectiveness      4143 non-null   object\n",
      " 3   sideEffects        4143 non-null   object\n",
      " 4   condition          4142 non-null   object\n",
      " 5   benefitsReview     4143 non-null   object\n",
      " 6   sideEffectsReview  4141 non-null   object\n",
      " 7   commentsReview     4135 non-null   object\n",
      "dtypes: int64(1), object(7)\n",
      "memory usage: 291.3+ KB\n"
     ]
    }
   ],
   "source": [
    "drug_reviews_df.info()"
   ]
  },
  {
   "cell_type": "code",
   "execution_count": 10,
   "metadata": {
    "colab": {
     "base_uri": "https://localhost:8080/",
     "height": 238
    },
    "colab_type": "code",
    "id": "X1dRk0VuGgTY",
    "outputId": "0a38fa82-6bdc-47a5-99b0-d1f4363c81fe"
   },
   "outputs": [
    {
     "name": "stdout",
     "output_type": "stream",
     "text": [
      "<class 'pandas.core.frame.DataFrame'>\n",
      "RangeIndex: 4132 entries, 0 to 4131\n",
      "Data columns (total 8 columns):\n",
      " #   Column             Non-Null Count  Dtype \n",
      "---  ------             --------------  ----- \n",
      " 0   urlDrugName        4132 non-null   object\n",
      " 1   rating             4132 non-null   int64 \n",
      " 2   effectiveness      4132 non-null   object\n",
      " 3   sideEffects        4132 non-null   object\n",
      " 4   condition          4132 non-null   object\n",
      " 5   benefitsReview     4132 non-null   object\n",
      " 6   sideEffectsReview  4132 non-null   object\n",
      " 7   commentsReview     4132 non-null   object\n",
      "dtypes: int64(1), object(7)\n",
      "memory usage: 258.4+ KB\n"
     ]
    }
   ],
   "source": [
    "drug_reviews_df = drug_reviews_df.dropna().reset_index(drop=True)\n",
    "drug_reviews_df.info()"
   ]
  },
  {
   "cell_type": "code",
   "execution_count": 11,
   "metadata": {
    "colab": {
     "base_uri": "https://localhost:8080/",
     "height": 1000
    },
    "colab_type": "code",
    "id": "kfF_UbluTpIU",
    "outputId": "108031fa-2fba-48cb-bab7-36d1eb426a9a"
   },
   "outputs": [
    {
     "data": {
      "text/html": [
       "<div>\n",
       "<style scoped>\n",
       "    .dataframe tbody tr th:only-of-type {\n",
       "        vertical-align: middle;\n",
       "    }\n",
       "\n",
       "    .dataframe tbody tr th {\n",
       "        vertical-align: top;\n",
       "    }\n",
       "\n",
       "    .dataframe thead th {\n",
       "        text-align: right;\n",
       "    }\n",
       "</style>\n",
       "<table border=\"1\" class=\"dataframe\">\n",
       "  <thead>\n",
       "    <tr style=\"text-align: right;\">\n",
       "      <th></th>\n",
       "      <th>urlDrugName</th>\n",
       "      <th>rating</th>\n",
       "      <th>effectiveness</th>\n",
       "      <th>sideEffects</th>\n",
       "      <th>condition</th>\n",
       "      <th>benefitsReview</th>\n",
       "      <th>sideEffectsReview</th>\n",
       "      <th>commentsReview</th>\n",
       "    </tr>\n",
       "  </thead>\n",
       "  <tbody>\n",
       "    <tr>\n",
       "      <th>0</th>\n",
       "      <td>biaxin</td>\n",
       "      <td>9</td>\n",
       "      <td>Considerably Effective</td>\n",
       "      <td>Mild Side Effects</td>\n",
       "      <td>sinus infection</td>\n",
       "      <td>The antibiotic may have destroyed bacteria cau...</td>\n",
       "      <td>Some back pain, some nauseau.</td>\n",
       "      <td>Took the antibiotics for 14 days. Sinus infect...</td>\n",
       "    </tr>\n",
       "    <tr>\n",
       "      <th>1</th>\n",
       "      <td>lamictal</td>\n",
       "      <td>9</td>\n",
       "      <td>Highly Effective</td>\n",
       "      <td>Mild Side Effects</td>\n",
       "      <td>bipolar disorder</td>\n",
       "      <td>Lamictal stabilized my serious mood swings. On...</td>\n",
       "      <td>Drowsiness, a bit of mental numbness. If you t...</td>\n",
       "      <td>Severe mood swings between hypomania and depre...</td>\n",
       "    </tr>\n",
       "    <tr>\n",
       "      <th>2</th>\n",
       "      <td>depakene</td>\n",
       "      <td>4</td>\n",
       "      <td>Moderately Effective</td>\n",
       "      <td>Severe Side Effects</td>\n",
       "      <td>bipolar disorder</td>\n",
       "      <td>Initial benefits were comparable to the brand ...</td>\n",
       "      <td>Depakene has a very thin coating, which caused...</td>\n",
       "      <td>Depakote was prescribed to me by a Kaiser psyc...</td>\n",
       "    </tr>\n",
       "    <tr>\n",
       "      <th>3</th>\n",
       "      <td>sarafem</td>\n",
       "      <td>10</td>\n",
       "      <td>Highly Effective</td>\n",
       "      <td>No Side Effects</td>\n",
       "      <td>bi-polar / anxiety</td>\n",
       "      <td>It controlls my mood swings. It helps me think...</td>\n",
       "      <td>I didnt really notice any side effects.</td>\n",
       "      <td>This drug may not be for everyone but its wond...</td>\n",
       "    </tr>\n",
       "    <tr>\n",
       "      <th>4</th>\n",
       "      <td>accutane</td>\n",
       "      <td>10</td>\n",
       "      <td>Highly Effective</td>\n",
       "      <td>Mild Side Effects</td>\n",
       "      <td>nodular acne</td>\n",
       "      <td>Within one week of treatment superficial acne ...</td>\n",
       "      <td>Side effects included moderate to severe dry s...</td>\n",
       "      <td>Drug was taken in gelatin tablet at 0.5 mg per...</td>\n",
       "    </tr>\n",
       "    <tr>\n",
       "      <th>5</th>\n",
       "      <td>biaxin</td>\n",
       "      <td>2</td>\n",
       "      <td>Marginally Effective</td>\n",
       "      <td>No Side Effects</td>\n",
       "      <td>sinus infection</td>\n",
       "      <td>By the end of the 10-day treatment I felt bett...</td>\n",
       "      <td>I felt no significant side effects - perhaps s...</td>\n",
       "      <td>Basically the treatment did not seem to work. ...</td>\n",
       "    </tr>\n",
       "    <tr>\n",
       "      <th>6</th>\n",
       "      <td>carbamazepine</td>\n",
       "      <td>8</td>\n",
       "      <td>Considerably Effective</td>\n",
       "      <td>Moderate Side Effects</td>\n",
       "      <td>seizure</td>\n",
       "      <td>reduction in seizures reduction in seizures re...</td>\n",
       "      <td>tired/sleepy very tired sleep and tired very t...</td>\n",
       "      <td>took it for seizure took pills drank with wate...</td>\n",
       "    </tr>\n",
       "    <tr>\n",
       "      <th>7</th>\n",
       "      <td>ultram-er</td>\n",
       "      <td>10</td>\n",
       "      <td>Highly Effective</td>\n",
       "      <td>Mild Side Effects</td>\n",
       "      <td>cervical disk degeneration and lower back pain</td>\n",
       "      <td>Ive been taking Tramadol for 2 weeks now. Ive ...</td>\n",
       "      <td>I have had no side effects so far. I hope it s...</td>\n",
       "      <td>Treating for neck, shoulder, arms, lower back,...</td>\n",
       "    </tr>\n",
       "    <tr>\n",
       "      <th>8</th>\n",
       "      <td>klonopin</td>\n",
       "      <td>10</td>\n",
       "      <td>Highly Effective</td>\n",
       "      <td>No Side Effects</td>\n",
       "      <td>panic disorder</td>\n",
       "      <td>I immediately stopped having panic attacks.  I...</td>\n",
       "      <td>I experienced no side effects.  I was not tire...</td>\n",
       "      <td>I started both klonopin and prozac together.  ...</td>\n",
       "    </tr>\n",
       "    <tr>\n",
       "      <th>9</th>\n",
       "      <td>effexor</td>\n",
       "      <td>1</td>\n",
       "      <td>Marginally Effective</td>\n",
       "      <td>Extremely Severe Side Effects</td>\n",
       "      <td>depression</td>\n",
       "      <td>the presumed benefits were to help with a seve...</td>\n",
       "      <td>here we go.the initial effect would be dry mou...</td>\n",
       "      <td>family doctor initially prescribed wellbutin b...</td>\n",
       "    </tr>\n",
       "    <tr>\n",
       "      <th>10</th>\n",
       "      <td>lyrica</td>\n",
       "      <td>3</td>\n",
       "      <td>Moderately Effective</td>\n",
       "      <td>Moderate Side Effects</td>\n",
       "      <td>fibromyalgia</td>\n",
       "      <td>some pain relief recieved minimized pain when ...</td>\n",
       "      <td>signigicant swelling of hands and feet so sign...</td>\n",
       "      <td>I started on 50mg twice aday with out any pain...</td>\n",
       "    </tr>\n",
       "    <tr>\n",
       "      <th>11</th>\n",
       "      <td>valtrex</td>\n",
       "      <td>9</td>\n",
       "      <td>Highly Effective</td>\n",
       "      <td>Mild Side Effects</td>\n",
       "      <td>cold sores</td>\n",
       "      <td>Significantly diminished the symptoms and size...</td>\n",
       "      <td>Slight dizziness and tiredness, very minor.</td>\n",
       "      <td>2x 1000mg tablets every 12 hours for 1 day.</td>\n",
       "    </tr>\n",
       "    <tr>\n",
       "      <th>12</th>\n",
       "      <td>provigil</td>\n",
       "      <td>6</td>\n",
       "      <td>Moderately Effective</td>\n",
       "      <td>No Side Effects</td>\n",
       "      <td>chronic fatigue</td>\n",
       "      <td>Treatment benefits were noticeable but not sub...</td>\n",
       "      <td>nervousness, insomnia (if taken late in the day)</td>\n",
       "      <td>Took 100mg each day in the morning, sometimes ...</td>\n",
       "    </tr>\n",
       "    <tr>\n",
       "      <th>13</th>\n",
       "      <td>maxalt</td>\n",
       "      <td>10</td>\n",
       "      <td>Highly Effective</td>\n",
       "      <td>Mild Side Effects</td>\n",
       "      <td>migraine</td>\n",
       "      <td>Very quick migraine relief with no nausea or d...</td>\n",
       "      <td>Very mild \"buzz.\"</td>\n",
       "      <td>This is the first migraine medicine I've found...</td>\n",
       "    </tr>\n",
       "    <tr>\n",
       "      <th>14</th>\n",
       "      <td>xanax</td>\n",
       "      <td>5</td>\n",
       "      <td>Moderately Effective</td>\n",
       "      <td>Mild Side Effects</td>\n",
       "      <td>anxiety</td>\n",
       "      <td>The xanax would act as a downer. It would calm...</td>\n",
       "      <td>As I explained above. Addiction and drowsiness...</td>\n",
       "      <td>Once a day preferably at bedtime but if a situ...</td>\n",
       "    </tr>\n",
       "    <tr>\n",
       "      <th>15</th>\n",
       "      <td>chantix</td>\n",
       "      <td>5</td>\n",
       "      <td>Moderately Effective</td>\n",
       "      <td>Moderate Side Effects</td>\n",
       "      <td>stop smoking</td>\n",
       "      <td>The benefits were to eventually stop smoking.</td>\n",
       "      <td>At first I experienced a slight headache and u...</td>\n",
       "      <td>I was to take 1 small dosage pill twice a day ...</td>\n",
       "    </tr>\n",
       "    <tr>\n",
       "      <th>16</th>\n",
       "      <td>ranitidine</td>\n",
       "      <td>7</td>\n",
       "      <td>Moderately Effective</td>\n",
       "      <td>No Side Effects</td>\n",
       "      <td>heartburn</td>\n",
       "      <td>to reduce acid production and stop acid reflux...</td>\n",
       "      <td>there are no side effects</td>\n",
       "      <td>take 2-3 times per day to aviod reflux acid. t...</td>\n",
       "    </tr>\n",
       "    <tr>\n",
       "      <th>17</th>\n",
       "      <td>prednisone</td>\n",
       "      <td>7</td>\n",
       "      <td>Considerably Effective</td>\n",
       "      <td>Moderate Side Effects</td>\n",
       "      <td>rheumatoid arthritis</td>\n",
       "      <td>Stopped inflammation. Reduced need for pain ki...</td>\n",
       "      <td>Weight gain, osteoporosis, moon face; noticed ...</td>\n",
       "      <td>Taken daily orally once a day. Eventually tape...</td>\n",
       "    </tr>\n",
       "    <tr>\n",
       "      <th>18</th>\n",
       "      <td>augmentin</td>\n",
       "      <td>8</td>\n",
       "      <td>Highly Effective</td>\n",
       "      <td>Severe Side Effects</td>\n",
       "      <td>diverticulitis</td>\n",
       "      <td>Reduction of infection of acute uncomplicated ...</td>\n",
       "      <td>Disturbing and painful balanitis after 4 days,...</td>\n",
       "      <td>Augmentin 875 mg twice a day for three weeks.</td>\n",
       "    </tr>\n",
       "    <tr>\n",
       "      <th>19</th>\n",
       "      <td>zyrtec</td>\n",
       "      <td>10</td>\n",
       "      <td>Highly Effective</td>\n",
       "      <td>No Side Effects</td>\n",
       "      <td>seasonal allergies</td>\n",
       "      <td>This medicine stopped post nasal drip, itching...</td>\n",
       "      <td>There were no treatment side effects noted.</td>\n",
       "      <td>I have taken this medicine once daily, in the ...</td>\n",
       "    </tr>\n",
       "  </tbody>\n",
       "</table>\n",
       "</div>"
      ],
      "text/plain": [
       "      urlDrugName  rating           effectiveness  \\\n",
       "0          biaxin       9  Considerably Effective   \n",
       "1        lamictal       9        Highly Effective   \n",
       "2        depakene       4    Moderately Effective   \n",
       "3         sarafem      10        Highly Effective   \n",
       "4        accutane      10        Highly Effective   \n",
       "5          biaxin       2    Marginally Effective   \n",
       "6   carbamazepine       8  Considerably Effective   \n",
       "7       ultram-er      10        Highly Effective   \n",
       "8        klonopin      10        Highly Effective   \n",
       "9         effexor       1    Marginally Effective   \n",
       "10         lyrica       3    Moderately Effective   \n",
       "11        valtrex       9        Highly Effective   \n",
       "12       provigil       6    Moderately Effective   \n",
       "13         maxalt      10        Highly Effective   \n",
       "14          xanax       5    Moderately Effective   \n",
       "15        chantix       5    Moderately Effective   \n",
       "16     ranitidine       7    Moderately Effective   \n",
       "17     prednisone       7  Considerably Effective   \n",
       "18      augmentin       8        Highly Effective   \n",
       "19         zyrtec      10        Highly Effective   \n",
       "\n",
       "                      sideEffects  \\\n",
       "0               Mild Side Effects   \n",
       "1               Mild Side Effects   \n",
       "2             Severe Side Effects   \n",
       "3                 No Side Effects   \n",
       "4               Mild Side Effects   \n",
       "5                 No Side Effects   \n",
       "6           Moderate Side Effects   \n",
       "7               Mild Side Effects   \n",
       "8                 No Side Effects   \n",
       "9   Extremely Severe Side Effects   \n",
       "10          Moderate Side Effects   \n",
       "11              Mild Side Effects   \n",
       "12                No Side Effects   \n",
       "13              Mild Side Effects   \n",
       "14              Mild Side Effects   \n",
       "15          Moderate Side Effects   \n",
       "16                No Side Effects   \n",
       "17          Moderate Side Effects   \n",
       "18            Severe Side Effects   \n",
       "19                No Side Effects   \n",
       "\n",
       "                                         condition  \\\n",
       "0                                  sinus infection   \n",
       "1                                 bipolar disorder   \n",
       "2                                 bipolar disorder   \n",
       "3                               bi-polar / anxiety   \n",
       "4                                     nodular acne   \n",
       "5                                  sinus infection   \n",
       "6                                          seizure   \n",
       "7   cervical disk degeneration and lower back pain   \n",
       "8                                   panic disorder   \n",
       "9                                       depression   \n",
       "10                                    fibromyalgia   \n",
       "11                                      cold sores   \n",
       "12                                 chronic fatigue   \n",
       "13                                        migraine   \n",
       "14                                         anxiety   \n",
       "15                                    stop smoking   \n",
       "16                                       heartburn   \n",
       "17                            rheumatoid arthritis   \n",
       "18                                  diverticulitis   \n",
       "19                              seasonal allergies   \n",
       "\n",
       "                                       benefitsReview  \\\n",
       "0   The antibiotic may have destroyed bacteria cau...   \n",
       "1   Lamictal stabilized my serious mood swings. On...   \n",
       "2   Initial benefits were comparable to the brand ...   \n",
       "3   It controlls my mood swings. It helps me think...   \n",
       "4   Within one week of treatment superficial acne ...   \n",
       "5   By the end of the 10-day treatment I felt bett...   \n",
       "6   reduction in seizures reduction in seizures re...   \n",
       "7   Ive been taking Tramadol for 2 weeks now. Ive ...   \n",
       "8   I immediately stopped having panic attacks.  I...   \n",
       "9   the presumed benefits were to help with a seve...   \n",
       "10  some pain relief recieved minimized pain when ...   \n",
       "11  Significantly diminished the symptoms and size...   \n",
       "12  Treatment benefits were noticeable but not sub...   \n",
       "13  Very quick migraine relief with no nausea or d...   \n",
       "14  The xanax would act as a downer. It would calm...   \n",
       "15      The benefits were to eventually stop smoking.   \n",
       "16  to reduce acid production and stop acid reflux...   \n",
       "17  Stopped inflammation. Reduced need for pain ki...   \n",
       "18  Reduction of infection of acute uncomplicated ...   \n",
       "19  This medicine stopped post nasal drip, itching...   \n",
       "\n",
       "                                    sideEffectsReview  \\\n",
       "0                       Some back pain, some nauseau.   \n",
       "1   Drowsiness, a bit of mental numbness. If you t...   \n",
       "2   Depakene has a very thin coating, which caused...   \n",
       "3             I didnt really notice any side effects.   \n",
       "4   Side effects included moderate to severe dry s...   \n",
       "5   I felt no significant side effects - perhaps s...   \n",
       "6   tired/sleepy very tired sleep and tired very t...   \n",
       "7   I have had no side effects so far. I hope it s...   \n",
       "8   I experienced no side effects.  I was not tire...   \n",
       "9   here we go.the initial effect would be dry mou...   \n",
       "10  signigicant swelling of hands and feet so sign...   \n",
       "11        Slight dizziness and tiredness, very minor.   \n",
       "12   nervousness, insomnia (if taken late in the day)   \n",
       "13                                  Very mild \"buzz.\"   \n",
       "14  As I explained above. Addiction and drowsiness...   \n",
       "15  At first I experienced a slight headache and u...   \n",
       "16                          there are no side effects   \n",
       "17  Weight gain, osteoporosis, moon face; noticed ...   \n",
       "18  Disturbing and painful balanitis after 4 days,...   \n",
       "19        There were no treatment side effects noted.   \n",
       "\n",
       "                                       commentsReview  \n",
       "0   Took the antibiotics for 14 days. Sinus infect...  \n",
       "1   Severe mood swings between hypomania and depre...  \n",
       "2   Depakote was prescribed to me by a Kaiser psyc...  \n",
       "3   This drug may not be for everyone but its wond...  \n",
       "4   Drug was taken in gelatin tablet at 0.5 mg per...  \n",
       "5   Basically the treatment did not seem to work. ...  \n",
       "6   took it for seizure took pills drank with wate...  \n",
       "7   Treating for neck, shoulder, arms, lower back,...  \n",
       "8   I started both klonopin and prozac together.  ...  \n",
       "9   family doctor initially prescribed wellbutin b...  \n",
       "10  I started on 50mg twice aday with out any pain...  \n",
       "11        2x 1000mg tablets every 12 hours for 1 day.  \n",
       "12  Took 100mg each day in the morning, sometimes ...  \n",
       "13  This is the first migraine medicine I've found...  \n",
       "14  Once a day preferably at bedtime but if a situ...  \n",
       "15  I was to take 1 small dosage pill twice a day ...  \n",
       "16  take 2-3 times per day to aviod reflux acid. t...  \n",
       "17  Taken daily orally once a day. Eventually tape...  \n",
       "18      Augmentin 875 mg twice a day for three weeks.  \n",
       "19  I have taken this medicine once daily, in the ...  "
      ]
     },
     "execution_count": 11,
     "metadata": {},
     "output_type": "execute_result"
    }
   ],
   "source": [
    "drug_reviews_df.head(20)"
   ]
  },
  {
   "cell_type": "markdown",
   "metadata": {
    "colab_type": "text",
    "id": "q6ytr1XWrAT1"
   },
   "source": [
    "## Use case : Attempt to predict sideEffects from sideEffects Review"
   ]
  },
  {
   "cell_type": "code",
   "execution_count": 12,
   "metadata": {
    "colab": {},
    "colab_type": "code",
    "id": "YyufAND2GuSB"
   },
   "outputs": [],
   "source": [
    "side_effects_df = drug_reviews_df[['urlDrugName','sideEffects','sideEffectsReview']]"
   ]
  },
  {
   "cell_type": "code",
   "execution_count": 13,
   "metadata": {
    "colab": {
     "base_uri": "https://localhost:8080/",
     "height": 153
    },
    "colab_type": "code",
    "id": "UyZ9r77KUVpu",
    "outputId": "d1a4acab-2fb9-4a00-f600-47d3564e26f1"
   },
   "outputs": [
    {
     "name": "stdout",
     "output_type": "stream",
     "text": [
      "<class 'pandas.core.frame.DataFrame'>\n",
      "RangeIndex: 4132 entries, 0 to 4131\n",
      "Data columns (total 3 columns):\n",
      " #   Column             Non-Null Count  Dtype \n",
      "---  ------             --------------  ----- \n",
      " 0   urlDrugName        4132 non-null   object\n",
      " 1   sideEffects        4132 non-null   object\n",
      " 2   sideEffectsReview  4132 non-null   object\n",
      "dtypes: object(3)\n",
      "memory usage: 97.0+ KB\n"
     ]
    }
   ],
   "source": [
    "side_effects_df.info()"
   ]
  },
  {
   "cell_type": "markdown",
   "metadata": {
    "colab_type": "text",
    "id": "4JZ_iBtfUijn"
   },
   "source": [
    "\n"
   ]
  },
  {
   "cell_type": "code",
   "execution_count": 14,
   "metadata": {
    "colab": {
     "base_uri": "https://localhost:8080/",
     "height": 68
    },
    "colab_type": "code",
    "id": "QDwWdyffrRce",
    "outputId": "841faae5-5c13-4279-ec04-cac5e4218110"
   },
   "outputs": [
    {
     "data": {
      "text/plain": [
       "array(['Mild Side Effects', 'Severe Side Effects', 'No Side Effects',\n",
       "       'Moderate Side Effects', 'Extremely Severe Side Effects'],\n",
       "      dtype=object)"
      ]
     },
     "execution_count": 14,
     "metadata": {},
     "output_type": "execute_result"
    }
   ],
   "source": [
    "side_effects_df['sideEffects'].unique()"
   ]
  },
  {
   "cell_type": "code",
   "execution_count": 15,
   "metadata": {
    "colab": {
     "base_uri": "https://localhost:8080/",
     "height": 34
    },
    "colab_type": "code",
    "id": "Xxus9XvJrVMv",
    "outputId": "7dd3b525-2334-4f6e-e00c-d08020159d99"
   },
   "outputs": [
    {
     "data": {
      "text/plain": [
       "5"
      ]
     },
     "execution_count": 15,
     "metadata": {},
     "output_type": "execute_result"
    }
   ],
   "source": [
    "side_effects_df['sideEffects'].nunique()"
   ]
  },
  {
   "cell_type": "code",
   "execution_count": 16,
   "metadata": {
    "colab": {
     "base_uri": "https://localhost:8080/",
     "height": 119
    },
    "colab_type": "code",
    "id": "R9b0pMyPrYQC",
    "outputId": "82adf0be-be03-4791-c814-115ea0b4babf"
   },
   "outputs": [
    {
     "data": {
      "text/plain": [
       "Mild Side Effects                1347\n",
       "No Side Effects                  1193\n",
       "Moderate Side Effects             848\n",
       "Severe Side Effects               489\n",
       "Extremely Severe Side Effects     255\n",
       "Name: sideEffects, dtype: int64"
      ]
     },
     "execution_count": 16,
     "metadata": {},
     "output_type": "execute_result"
    }
   ],
   "source": [
    "side_effects_df['sideEffects'].value_counts()"
   ]
  },
  {
   "cell_type": "code",
   "execution_count": 17,
   "metadata": {
    "colab": {
     "base_uri": "https://localhost:8080/",
     "height": 34
    },
    "colab_type": "code",
    "id": "FkifXabtrfHc",
    "outputId": "4960a063-9dc6-4918-9f0b-f055aeccbc30"
   },
   "outputs": [
    {
     "data": {
      "text/plain": [
       "'I experienced no side effects.  I was not tired nor did I feel medicated.'"
      ]
     },
     "execution_count": 17,
     "metadata": {},
     "output_type": "execute_result"
    }
   ],
   "source": [
    "side_effects_df.loc[8]['sideEffectsReview']       #labelled as No Side Effect"
   ]
  },
  {
   "cell_type": "code",
   "execution_count": 18,
   "metadata": {
    "colab": {
     "base_uri": "https://localhost:8080/",
     "height": 34
    },
    "colab_type": "code",
    "id": "HhVUYWJWriyG",
    "outputId": "cd2c2088-90cb-40c6-c0ce-1ba20b55b0c1"
   },
   "outputs": [
    {
     "data": {
      "text/plain": [
       "'I felt no significant side effects - perhaps some slight drowsiness.'"
      ]
     },
     "execution_count": 18,
     "metadata": {},
     "output_type": "execute_result"
    }
   ],
   "source": [
    "side_effects_df.loc[5]['sideEffectsReview']       #labelled as No Side Effect"
   ]
  },
  {
   "cell_type": "markdown",
   "metadata": {
    "colab_type": "text",
    "id": "IBZgIjjCIBvh"
   },
   "source": [
    "## **What happens when texts are not represented**"
   ]
  },
  {
   "cell_type": "code",
   "execution_count": 19,
   "metadata": {
    "colab": {},
    "colab_type": "code",
    "id": "Py8u_v12V5R7"
   },
   "outputs": [],
   "source": [
    "x_train_unprocessed, x_test_unprocessed, y_train_unprocessed, y_test_unprocessed = train_test_split(side_effects_df['sideEffectsReview'], side_effects_df['sideEffects'], test_size=0.2, random_state=0)"
   ]
  },
  {
   "cell_type": "code",
   "execution_count": 20,
   "metadata": {
    "colab": {
     "base_uri": "https://localhost:8080/",
     "height": 326
    },
    "colab_type": "code",
    "id": "k_rObGRhX5ah",
    "outputId": "c361a2d5-f9e3-4b28-f7de-f4c9d9a0089b"
   },
   "outputs": [],
   "source": [
    "# clf = LogisticRegression(random_state=0, solver='lbfgs',multi_class='multinomial').fit(x_train_unprocessed, y_train_unprocessed)"
   ]
  },
  {
   "cell_type": "markdown",
   "metadata": {
    "colab_type": "text",
    "id": "_yL26blxr88y"
   },
   "source": [
    "## Different Ways of Encoding Text Label"
   ]
  },
  {
   "cell_type": "markdown",
   "metadata": {
    "colab_type": "text",
    "id": "kHmfnnQirz_V"
   },
   "source": [
    "###Label encoding using manual assignment"
   ]
  },
  {
   "cell_type": "code",
   "execution_count": 21,
   "metadata": {
    "colab": {},
    "colab_type": "code",
    "id": "buHzYzR_rziO"
   },
   "outputs": [],
   "source": [
    "side_effects_df_1 = side_effects_df.copy()\n",
    "side_effects_df_1.loc[side_effects_df_1['sideEffects'] =='Extremely Severe Side Effects',\"manual_label_encode\"] = 0\n",
    "side_effects_df_1.loc[side_effects_df_1['sideEffects'] =='Mild Side Effects',\"manual_label_encode\"] = 1\n",
    "side_effects_df_1.loc[side_effects_df_1['sideEffects'] =='Moderate Side Effects',\"manual_label_encode\"] = 2\n",
    "side_effects_df_1.loc[side_effects_df_1['sideEffects'] =='No Side Effects',\"manual_label_encode\"] = 3\n",
    "side_effects_df_1.loc[side_effects_df_1['sideEffects'] =='Severe Side Effects',\"manual_label_encode\"] = 4\n"
   ]
  },
  {
   "cell_type": "code",
   "execution_count": 22,
   "metadata": {
    "colab": {
     "base_uri": "https://localhost:8080/",
     "height": 204
    },
    "colab_type": "code",
    "id": "xu3suh7DsinV",
    "outputId": "99d8e058-f9ff-4121-d0c1-01c6993bd073"
   },
   "outputs": [
    {
     "data": {
      "text/html": [
       "<div>\n",
       "<style scoped>\n",
       "    .dataframe tbody tr th:only-of-type {\n",
       "        vertical-align: middle;\n",
       "    }\n",
       "\n",
       "    .dataframe tbody tr th {\n",
       "        vertical-align: top;\n",
       "    }\n",
       "\n",
       "    .dataframe thead th {\n",
       "        text-align: right;\n",
       "    }\n",
       "</style>\n",
       "<table border=\"1\" class=\"dataframe\">\n",
       "  <thead>\n",
       "    <tr style=\"text-align: right;\">\n",
       "      <th></th>\n",
       "      <th>urlDrugName</th>\n",
       "      <th>sideEffects</th>\n",
       "      <th>sideEffectsReview</th>\n",
       "      <th>manual_label_encode</th>\n",
       "    </tr>\n",
       "  </thead>\n",
       "  <tbody>\n",
       "    <tr>\n",
       "      <th>0</th>\n",
       "      <td>biaxin</td>\n",
       "      <td>Mild Side Effects</td>\n",
       "      <td>Some back pain, some nauseau.</td>\n",
       "      <td>1.0</td>\n",
       "    </tr>\n",
       "    <tr>\n",
       "      <th>1</th>\n",
       "      <td>lamictal</td>\n",
       "      <td>Mild Side Effects</td>\n",
       "      <td>Drowsiness, a bit of mental numbness. If you t...</td>\n",
       "      <td>1.0</td>\n",
       "    </tr>\n",
       "    <tr>\n",
       "      <th>2</th>\n",
       "      <td>depakene</td>\n",
       "      <td>Severe Side Effects</td>\n",
       "      <td>Depakene has a very thin coating, which caused...</td>\n",
       "      <td>4.0</td>\n",
       "    </tr>\n",
       "    <tr>\n",
       "      <th>3</th>\n",
       "      <td>sarafem</td>\n",
       "      <td>No Side Effects</td>\n",
       "      <td>I didnt really notice any side effects.</td>\n",
       "      <td>3.0</td>\n",
       "    </tr>\n",
       "    <tr>\n",
       "      <th>4</th>\n",
       "      <td>accutane</td>\n",
       "      <td>Mild Side Effects</td>\n",
       "      <td>Side effects included moderate to severe dry s...</td>\n",
       "      <td>1.0</td>\n",
       "    </tr>\n",
       "  </tbody>\n",
       "</table>\n",
       "</div>"
      ],
      "text/plain": [
       "  urlDrugName          sideEffects  \\\n",
       "0      biaxin    Mild Side Effects   \n",
       "1    lamictal    Mild Side Effects   \n",
       "2    depakene  Severe Side Effects   \n",
       "3     sarafem      No Side Effects   \n",
       "4    accutane    Mild Side Effects   \n",
       "\n",
       "                                   sideEffectsReview  manual_label_encode  \n",
       "0                      Some back pain, some nauseau.                  1.0  \n",
       "1  Drowsiness, a bit of mental numbness. If you t...                  1.0  \n",
       "2  Depakene has a very thin coating, which caused...                  4.0  \n",
       "3            I didnt really notice any side effects.                  3.0  \n",
       "4  Side effects included moderate to severe dry s...                  1.0  "
      ]
     },
     "execution_count": 22,
     "metadata": {},
     "output_type": "execute_result"
    }
   ],
   "source": [
    "side_effects_df_1.head()"
   ]
  },
  {
   "cell_type": "markdown",
   "metadata": {
    "colab_type": "text",
    "id": "2nun7QpNeh_7"
   },
   "source": [
    "### Label Encoding Using pandas.astype('category)\n"
   ]
  },
  {
   "cell_type": "code",
   "execution_count": 23,
   "metadata": {
    "colab": {},
    "colab_type": "code",
    "id": "KgTedERkf7WZ"
   },
   "outputs": [],
   "source": [
    "side_effects_df_2 = side_effects_df.copy()\n",
    "side_effects_df_2['pandas_as_category_label_encode']  = side_effects_df_2['sideEffects'].astype('category').cat.codes"
   ]
  },
  {
   "cell_type": "code",
   "execution_count": 24,
   "metadata": {
    "colab": {
     "base_uri": "https://localhost:8080/",
     "height": 204
    },
    "colab_type": "code",
    "id": "TopaLp_CfgwJ",
    "outputId": "1788c551-1321-4161-9394-6ed2063ade9d"
   },
   "outputs": [
    {
     "data": {
      "text/html": [
       "<div>\n",
       "<style scoped>\n",
       "    .dataframe tbody tr th:only-of-type {\n",
       "        vertical-align: middle;\n",
       "    }\n",
       "\n",
       "    .dataframe tbody tr th {\n",
       "        vertical-align: top;\n",
       "    }\n",
       "\n",
       "    .dataframe thead th {\n",
       "        text-align: right;\n",
       "    }\n",
       "</style>\n",
       "<table border=\"1\" class=\"dataframe\">\n",
       "  <thead>\n",
       "    <tr style=\"text-align: right;\">\n",
       "      <th></th>\n",
       "      <th>urlDrugName</th>\n",
       "      <th>sideEffects</th>\n",
       "      <th>sideEffectsReview</th>\n",
       "      <th>pandas_as_category_label_encode</th>\n",
       "    </tr>\n",
       "  </thead>\n",
       "  <tbody>\n",
       "    <tr>\n",
       "      <th>0</th>\n",
       "      <td>biaxin</td>\n",
       "      <td>Mild Side Effects</td>\n",
       "      <td>Some back pain, some nauseau.</td>\n",
       "      <td>1</td>\n",
       "    </tr>\n",
       "    <tr>\n",
       "      <th>1</th>\n",
       "      <td>lamictal</td>\n",
       "      <td>Mild Side Effects</td>\n",
       "      <td>Drowsiness, a bit of mental numbness. If you t...</td>\n",
       "      <td>1</td>\n",
       "    </tr>\n",
       "    <tr>\n",
       "      <th>2</th>\n",
       "      <td>depakene</td>\n",
       "      <td>Severe Side Effects</td>\n",
       "      <td>Depakene has a very thin coating, which caused...</td>\n",
       "      <td>4</td>\n",
       "    </tr>\n",
       "    <tr>\n",
       "      <th>3</th>\n",
       "      <td>sarafem</td>\n",
       "      <td>No Side Effects</td>\n",
       "      <td>I didnt really notice any side effects.</td>\n",
       "      <td>3</td>\n",
       "    </tr>\n",
       "    <tr>\n",
       "      <th>4</th>\n",
       "      <td>accutane</td>\n",
       "      <td>Mild Side Effects</td>\n",
       "      <td>Side effects included moderate to severe dry s...</td>\n",
       "      <td>1</td>\n",
       "    </tr>\n",
       "  </tbody>\n",
       "</table>\n",
       "</div>"
      ],
      "text/plain": [
       "  urlDrugName          sideEffects  \\\n",
       "0      biaxin    Mild Side Effects   \n",
       "1    lamictal    Mild Side Effects   \n",
       "2    depakene  Severe Side Effects   \n",
       "3     sarafem      No Side Effects   \n",
       "4    accutane    Mild Side Effects   \n",
       "\n",
       "                                   sideEffectsReview  \\\n",
       "0                      Some back pain, some nauseau.   \n",
       "1  Drowsiness, a bit of mental numbness. If you t...   \n",
       "2  Depakene has a very thin coating, which caused...   \n",
       "3            I didnt really notice any side effects.   \n",
       "4  Side effects included moderate to severe dry s...   \n",
       "\n",
       "   pandas_as_category_label_encode  \n",
       "0                                1  \n",
       "1                                1  \n",
       "2                                4  \n",
       "3                                3  \n",
       "4                                1  "
      ]
     },
     "execution_count": 24,
     "metadata": {},
     "output_type": "execute_result"
    }
   ],
   "source": [
    "side_effects_df_2.head()"
   ]
  },
  {
   "cell_type": "markdown",
   "metadata": {
    "colab_type": "text",
    "id": "PtQ3acM4tf5R"
   },
   "source": [
    "###Label Encoding using pandas.factorize"
   ]
  },
  {
   "cell_type": "code",
   "execution_count": 25,
   "metadata": {
    "colab": {},
    "colab_type": "code",
    "id": "D536Umw94aMB"
   },
   "outputs": [],
   "source": [
    "side_effects_df_3 = side_effects_df.copy()\n",
    "side_effects_df_3['pandas_factorize_label_encode'] = side_effects_df_3['sideEffects'].factorize(sort=True)[0]"
   ]
  },
  {
   "cell_type": "code",
   "execution_count": 26,
   "metadata": {
    "colab": {
     "base_uri": "https://localhost:8080/",
     "height": 204
    },
    "colab_type": "code",
    "id": "iaRIv_864y9H",
    "outputId": "063d095b-6616-49d6-9f9d-4909716e6239"
   },
   "outputs": [
    {
     "data": {
      "text/html": [
       "<div>\n",
       "<style scoped>\n",
       "    .dataframe tbody tr th:only-of-type {\n",
       "        vertical-align: middle;\n",
       "    }\n",
       "\n",
       "    .dataframe tbody tr th {\n",
       "        vertical-align: top;\n",
       "    }\n",
       "\n",
       "    .dataframe thead th {\n",
       "        text-align: right;\n",
       "    }\n",
       "</style>\n",
       "<table border=\"1\" class=\"dataframe\">\n",
       "  <thead>\n",
       "    <tr style=\"text-align: right;\">\n",
       "      <th></th>\n",
       "      <th>urlDrugName</th>\n",
       "      <th>sideEffects</th>\n",
       "      <th>sideEffectsReview</th>\n",
       "      <th>pandas_factorize_label_encode</th>\n",
       "    </tr>\n",
       "  </thead>\n",
       "  <tbody>\n",
       "    <tr>\n",
       "      <th>0</th>\n",
       "      <td>biaxin</td>\n",
       "      <td>Mild Side Effects</td>\n",
       "      <td>Some back pain, some nauseau.</td>\n",
       "      <td>1</td>\n",
       "    </tr>\n",
       "    <tr>\n",
       "      <th>1</th>\n",
       "      <td>lamictal</td>\n",
       "      <td>Mild Side Effects</td>\n",
       "      <td>Drowsiness, a bit of mental numbness. If you t...</td>\n",
       "      <td>1</td>\n",
       "    </tr>\n",
       "    <tr>\n",
       "      <th>2</th>\n",
       "      <td>depakene</td>\n",
       "      <td>Severe Side Effects</td>\n",
       "      <td>Depakene has a very thin coating, which caused...</td>\n",
       "      <td>4</td>\n",
       "    </tr>\n",
       "    <tr>\n",
       "      <th>3</th>\n",
       "      <td>sarafem</td>\n",
       "      <td>No Side Effects</td>\n",
       "      <td>I didnt really notice any side effects.</td>\n",
       "      <td>3</td>\n",
       "    </tr>\n",
       "    <tr>\n",
       "      <th>4</th>\n",
       "      <td>accutane</td>\n",
       "      <td>Mild Side Effects</td>\n",
       "      <td>Side effects included moderate to severe dry s...</td>\n",
       "      <td>1</td>\n",
       "    </tr>\n",
       "  </tbody>\n",
       "</table>\n",
       "</div>"
      ],
      "text/plain": [
       "  urlDrugName          sideEffects  \\\n",
       "0      biaxin    Mild Side Effects   \n",
       "1    lamictal    Mild Side Effects   \n",
       "2    depakene  Severe Side Effects   \n",
       "3     sarafem      No Side Effects   \n",
       "4    accutane    Mild Side Effects   \n",
       "\n",
       "                                   sideEffectsReview  \\\n",
       "0                      Some back pain, some nauseau.   \n",
       "1  Drowsiness, a bit of mental numbness. If you t...   \n",
       "2  Depakene has a very thin coating, which caused...   \n",
       "3            I didnt really notice any side effects.   \n",
       "4  Side effects included moderate to severe dry s...   \n",
       "\n",
       "   pandas_factorize_label_encode  \n",
       "0                              1  \n",
       "1                              1  \n",
       "2                              4  \n",
       "3                              3  \n",
       "4                              1  "
      ]
     },
     "execution_count": 26,
     "metadata": {},
     "output_type": "execute_result"
    }
   ],
   "source": [
    "side_effects_df_3.head()"
   ]
  },
  {
   "cell_type": "markdown",
   "metadata": {
    "colab_type": "text",
    "id": "MwQh-gSbxUTf"
   },
   "source": [
    "###  Label Encoding Using Dictionary Mapping\n",
    "#### Remember to talk about mapping as an option to set ordinal category label"
   ]
  },
  {
   "cell_type": "code",
   "execution_count": 27,
   "metadata": {
    "colab": {},
    "colab_type": "code",
    "id": "ertwx2u_xczQ"
   },
   "outputs": [],
   "source": [
    "side_effects_df_4 = side_effects_df.copy()\n",
    "side_effects_dict = {'Mild Side Effects' : 1 ,'Severe Side Effects' : 4,'No Side Effects' : 3,'Moderate Side Effects' : 2,'Extremely Severe Side Effects' : 0}\n",
    "side_effects_df_4['map_label_encode'] = side_effects_df_4['sideEffects'].map(side_effects_dict)"
   ]
  },
  {
   "cell_type": "code",
   "execution_count": 28,
   "metadata": {
    "colab": {
     "base_uri": "https://localhost:8080/",
     "height": 204
    },
    "colab_type": "code",
    "id": "wvO4IyREx0qB",
    "outputId": "2f9fca83-98ac-48ae-a870-2b308580ec19"
   },
   "outputs": [
    {
     "data": {
      "text/html": [
       "<div>\n",
       "<style scoped>\n",
       "    .dataframe tbody tr th:only-of-type {\n",
       "        vertical-align: middle;\n",
       "    }\n",
       "\n",
       "    .dataframe tbody tr th {\n",
       "        vertical-align: top;\n",
       "    }\n",
       "\n",
       "    .dataframe thead th {\n",
       "        text-align: right;\n",
       "    }\n",
       "</style>\n",
       "<table border=\"1\" class=\"dataframe\">\n",
       "  <thead>\n",
       "    <tr style=\"text-align: right;\">\n",
       "      <th></th>\n",
       "      <th>urlDrugName</th>\n",
       "      <th>sideEffects</th>\n",
       "      <th>sideEffectsReview</th>\n",
       "      <th>map_label_encode</th>\n",
       "    </tr>\n",
       "  </thead>\n",
       "  <tbody>\n",
       "    <tr>\n",
       "      <th>0</th>\n",
       "      <td>biaxin</td>\n",
       "      <td>Mild Side Effects</td>\n",
       "      <td>Some back pain, some nauseau.</td>\n",
       "      <td>1</td>\n",
       "    </tr>\n",
       "    <tr>\n",
       "      <th>1</th>\n",
       "      <td>lamictal</td>\n",
       "      <td>Mild Side Effects</td>\n",
       "      <td>Drowsiness, a bit of mental numbness. If you t...</td>\n",
       "      <td>1</td>\n",
       "    </tr>\n",
       "    <tr>\n",
       "      <th>2</th>\n",
       "      <td>depakene</td>\n",
       "      <td>Severe Side Effects</td>\n",
       "      <td>Depakene has a very thin coating, which caused...</td>\n",
       "      <td>4</td>\n",
       "    </tr>\n",
       "    <tr>\n",
       "      <th>3</th>\n",
       "      <td>sarafem</td>\n",
       "      <td>No Side Effects</td>\n",
       "      <td>I didnt really notice any side effects.</td>\n",
       "      <td>3</td>\n",
       "    </tr>\n",
       "    <tr>\n",
       "      <th>4</th>\n",
       "      <td>accutane</td>\n",
       "      <td>Mild Side Effects</td>\n",
       "      <td>Side effects included moderate to severe dry s...</td>\n",
       "      <td>1</td>\n",
       "    </tr>\n",
       "  </tbody>\n",
       "</table>\n",
       "</div>"
      ],
      "text/plain": [
       "  urlDrugName          sideEffects  \\\n",
       "0      biaxin    Mild Side Effects   \n",
       "1    lamictal    Mild Side Effects   \n",
       "2    depakene  Severe Side Effects   \n",
       "3     sarafem      No Side Effects   \n",
       "4    accutane    Mild Side Effects   \n",
       "\n",
       "                                   sideEffectsReview  map_label_encode  \n",
       "0                      Some back pain, some nauseau.                 1  \n",
       "1  Drowsiness, a bit of mental numbness. If you t...                 1  \n",
       "2  Depakene has a very thin coating, which caused...                 4  \n",
       "3            I didnt really notice any side effects.                 3  \n",
       "4  Side effects included moderate to severe dry s...                 1  "
      ]
     },
     "execution_count": 28,
     "metadata": {},
     "output_type": "execute_result"
    }
   ],
   "source": [
    "side_effects_df_4.head()"
   ]
  },
  {
   "cell_type": "markdown",
   "metadata": {
    "colab_type": "text",
    "id": "ygU8pdPbecUJ"
   },
   "source": [
    "### Label Encoding Using Sklearn's LabelEncoder"
   ]
  },
  {
   "cell_type": "code",
   "execution_count": 29,
   "metadata": {
    "colab": {},
    "colab_type": "code",
    "id": "HInoiuAmgMPk"
   },
   "outputs": [],
   "source": [
    "side_effects_df_5 = side_effects_df.copy()\n",
    "encoder = LabelEncoder()\n",
    "side_effects_df_5['sklearn_label_encode'] = encoder.fit_transform(side_effects_df_5['sideEffects'])"
   ]
  },
  {
   "cell_type": "code",
   "execution_count": 30,
   "metadata": {
    "colab": {
     "base_uri": "https://localhost:8080/",
     "height": 204
    },
    "colab_type": "code",
    "id": "VGxmMTbldELP",
    "outputId": "24886d6e-23df-47cd-ea6a-5132a9d7ee1d"
   },
   "outputs": [
    {
     "data": {
      "text/html": [
       "<div>\n",
       "<style scoped>\n",
       "    .dataframe tbody tr th:only-of-type {\n",
       "        vertical-align: middle;\n",
       "    }\n",
       "\n",
       "    .dataframe tbody tr th {\n",
       "        vertical-align: top;\n",
       "    }\n",
       "\n",
       "    .dataframe thead th {\n",
       "        text-align: right;\n",
       "    }\n",
       "</style>\n",
       "<table border=\"1\" class=\"dataframe\">\n",
       "  <thead>\n",
       "    <tr style=\"text-align: right;\">\n",
       "      <th></th>\n",
       "      <th>urlDrugName</th>\n",
       "      <th>sideEffects</th>\n",
       "      <th>sideEffectsReview</th>\n",
       "      <th>sklearn_label_encode</th>\n",
       "    </tr>\n",
       "  </thead>\n",
       "  <tbody>\n",
       "    <tr>\n",
       "      <th>0</th>\n",
       "      <td>biaxin</td>\n",
       "      <td>Mild Side Effects</td>\n",
       "      <td>Some back pain, some nauseau.</td>\n",
       "      <td>1</td>\n",
       "    </tr>\n",
       "    <tr>\n",
       "      <th>1</th>\n",
       "      <td>lamictal</td>\n",
       "      <td>Mild Side Effects</td>\n",
       "      <td>Drowsiness, a bit of mental numbness. If you t...</td>\n",
       "      <td>1</td>\n",
       "    </tr>\n",
       "    <tr>\n",
       "      <th>2</th>\n",
       "      <td>depakene</td>\n",
       "      <td>Severe Side Effects</td>\n",
       "      <td>Depakene has a very thin coating, which caused...</td>\n",
       "      <td>4</td>\n",
       "    </tr>\n",
       "    <tr>\n",
       "      <th>3</th>\n",
       "      <td>sarafem</td>\n",
       "      <td>No Side Effects</td>\n",
       "      <td>I didnt really notice any side effects.</td>\n",
       "      <td>3</td>\n",
       "    </tr>\n",
       "    <tr>\n",
       "      <th>4</th>\n",
       "      <td>accutane</td>\n",
       "      <td>Mild Side Effects</td>\n",
       "      <td>Side effects included moderate to severe dry s...</td>\n",
       "      <td>1</td>\n",
       "    </tr>\n",
       "  </tbody>\n",
       "</table>\n",
       "</div>"
      ],
      "text/plain": [
       "  urlDrugName          sideEffects  \\\n",
       "0      biaxin    Mild Side Effects   \n",
       "1    lamictal    Mild Side Effects   \n",
       "2    depakene  Severe Side Effects   \n",
       "3     sarafem      No Side Effects   \n",
       "4    accutane    Mild Side Effects   \n",
       "\n",
       "                                   sideEffectsReview  sklearn_label_encode  \n",
       "0                      Some back pain, some nauseau.                     1  \n",
       "1  Drowsiness, a bit of mental numbness. If you t...                     1  \n",
       "2  Depakene has a very thin coating, which caused...                     4  \n",
       "3            I didnt really notice any side effects.                     3  \n",
       "4  Side effects included moderate to severe dry s...                     1  "
      ]
     },
     "execution_count": 30,
     "metadata": {},
     "output_type": "execute_result"
    }
   ],
   "source": [
    "side_effects_df_5.head()"
   ]
  },
  {
   "cell_type": "markdown",
   "metadata": {
    "colab_type": "text",
    "id": "APbrmBLRwcsh"
   },
   "source": [
    "### One Hot Encoding Using panda.get_dummies"
   ]
  },
  {
   "cell_type": "code",
   "execution_count": 70,
   "metadata": {
    "colab": {},
    "colab_type": "code",
    "id": "baaCTR4Ftjee"
   },
   "outputs": [],
   "source": [
    "side_effects_df_6 = side_effects_df.copy()\n",
    "dummy_df = pd.get_dummies(side_effects_df_6['sideEffects'],prefix=['sideEffects'])\n",
    "side_effects_df_6 =  pd.concat([side_effects_df_6,dummy_df],axis=1)\n",
    "y = side_effects_df_6"
   ]
  },
  {
   "cell_type": "code",
   "execution_count": 71,
   "metadata": {
    "colab": {
     "base_uri": "https://localhost:8080/",
     "height": 306
    },
    "colab_type": "code",
    "id": "xD2Ly6UTvyH7",
    "outputId": "18afb610-af43-4653-d033-8a4979a508b1"
   },
   "outputs": [
    {
     "data": {
      "text/html": [
       "<div>\n",
       "<style scoped>\n",
       "    .dataframe tbody tr th:only-of-type {\n",
       "        vertical-align: middle;\n",
       "    }\n",
       "\n",
       "    .dataframe tbody tr th {\n",
       "        vertical-align: top;\n",
       "    }\n",
       "\n",
       "    .dataframe thead th {\n",
       "        text-align: right;\n",
       "    }\n",
       "</style>\n",
       "<table border=\"1\" class=\"dataframe\">\n",
       "  <thead>\n",
       "    <tr style=\"text-align: right;\">\n",
       "      <th></th>\n",
       "      <th>urlDrugName</th>\n",
       "      <th>sideEffects</th>\n",
       "      <th>sideEffectsReview</th>\n",
       "      <th>['sideEffects']_Extremely Severe Side Effects</th>\n",
       "      <th>['sideEffects']_Mild Side Effects</th>\n",
       "      <th>['sideEffects']_Moderate Side Effects</th>\n",
       "      <th>['sideEffects']_No Side Effects</th>\n",
       "      <th>['sideEffects']_Severe Side Effects</th>\n",
       "    </tr>\n",
       "  </thead>\n",
       "  <tbody>\n",
       "    <tr>\n",
       "      <th>0</th>\n",
       "      <td>biaxin</td>\n",
       "      <td>Mild Side Effects</td>\n",
       "      <td>Some back pain, some nauseau.</td>\n",
       "      <td>0</td>\n",
       "      <td>1</td>\n",
       "      <td>0</td>\n",
       "      <td>0</td>\n",
       "      <td>0</td>\n",
       "    </tr>\n",
       "    <tr>\n",
       "      <th>1</th>\n",
       "      <td>lamictal</td>\n",
       "      <td>Mild Side Effects</td>\n",
       "      <td>Drowsiness, a bit of mental numbness. If you t...</td>\n",
       "      <td>0</td>\n",
       "      <td>1</td>\n",
       "      <td>0</td>\n",
       "      <td>0</td>\n",
       "      <td>0</td>\n",
       "    </tr>\n",
       "    <tr>\n",
       "      <th>2</th>\n",
       "      <td>depakene</td>\n",
       "      <td>Severe Side Effects</td>\n",
       "      <td>Depakene has a very thin coating, which caused...</td>\n",
       "      <td>0</td>\n",
       "      <td>0</td>\n",
       "      <td>0</td>\n",
       "      <td>0</td>\n",
       "      <td>1</td>\n",
       "    </tr>\n",
       "    <tr>\n",
       "      <th>3</th>\n",
       "      <td>sarafem</td>\n",
       "      <td>No Side Effects</td>\n",
       "      <td>I didnt really notice any side effects.</td>\n",
       "      <td>0</td>\n",
       "      <td>0</td>\n",
       "      <td>0</td>\n",
       "      <td>1</td>\n",
       "      <td>0</td>\n",
       "    </tr>\n",
       "    <tr>\n",
       "      <th>4</th>\n",
       "      <td>accutane</td>\n",
       "      <td>Mild Side Effects</td>\n",
       "      <td>Side effects included moderate to severe dry s...</td>\n",
       "      <td>0</td>\n",
       "      <td>1</td>\n",
       "      <td>0</td>\n",
       "      <td>0</td>\n",
       "      <td>0</td>\n",
       "    </tr>\n",
       "  </tbody>\n",
       "</table>\n",
       "</div>"
      ],
      "text/plain": [
       "  urlDrugName          sideEffects  \\\n",
       "0      biaxin    Mild Side Effects   \n",
       "1    lamictal    Mild Side Effects   \n",
       "2    depakene  Severe Side Effects   \n",
       "3     sarafem      No Side Effects   \n",
       "4    accutane    Mild Side Effects   \n",
       "\n",
       "                                   sideEffectsReview  \\\n",
       "0                      Some back pain, some nauseau.   \n",
       "1  Drowsiness, a bit of mental numbness. If you t...   \n",
       "2  Depakene has a very thin coating, which caused...   \n",
       "3            I didnt really notice any side effects.   \n",
       "4  Side effects included moderate to severe dry s...   \n",
       "\n",
       "   ['sideEffects']_Extremely Severe Side Effects  \\\n",
       "0                                              0   \n",
       "1                                              0   \n",
       "2                                              0   \n",
       "3                                              0   \n",
       "4                                              0   \n",
       "\n",
       "   ['sideEffects']_Mild Side Effects  ['sideEffects']_Moderate Side Effects  \\\n",
       "0                                  1                                      0   \n",
       "1                                  1                                      0   \n",
       "2                                  0                                      0   \n",
       "3                                  0                                      0   \n",
       "4                                  1                                      0   \n",
       "\n",
       "   ['sideEffects']_No Side Effects  ['sideEffects']_Severe Side Effects  \n",
       "0                                0                                    0  \n",
       "1                                0                                    0  \n",
       "2                                0                                    1  \n",
       "3                                1                                    0  \n",
       "4                                0                                    0  "
      ]
     },
     "execution_count": 71,
     "metadata": {},
     "output_type": "execute_result"
    }
   ],
   "source": [
    "side_effects_df_6.head()"
   ]
  },
  {
   "cell_type": "markdown",
   "metadata": {
    "colab_type": "text",
    "id": "dB20juOEa_OS"
   },
   "source": []
  },
  {
   "cell_type": "markdown",
   "metadata": {
    "colab_type": "text",
    "id": "XGb2Sl4_bBSr"
   },
   "source": [
    "## sklearn's CountVectorizer"
   ]
  },
  {
   "cell_type": "code",
   "execution_count": 72,
   "metadata": {
    "colab": {},
    "colab_type": "code",
    "id": "dhKRdWNuJ29a"
   },
   "outputs": [],
   "source": [
    "x_train,x_test,y_train,y_test = train_test_split(side_effects_df_5['sideEffectsReview'],side_effects_df_5['sklearn_label_encode'], test_size=0.2, random_state=42)"
   ]
  },
  {
   "cell_type": "code",
   "execution_count": 73,
   "metadata": {
    "colab": {},
    "colab_type": "code",
    "id": "kgwxOsO5Kptr"
   },
   "outputs": [],
   "source": [
    "cv = CountVectorizer()\n",
    "x_train_cv = cv.fit_transform(x_train)\n",
    "x_test_cv = cv.transform(x_test)"
   ]
  },
  {
   "cell_type": "code",
   "execution_count": 74,
   "metadata": {
    "colab": {
     "base_uri": "https://localhost:8080/",
     "height": 34
    },
    "colab_type": "code",
    "id": "SMiNc8CPbHzQ",
    "outputId": "21c887c8-a59f-4072-eb1f-1c0fe2fc3c91"
   },
   "outputs": [
    {
     "data": {
      "text/plain": [
       "((3305, 7174), (827, 7174))"
      ]
     },
     "execution_count": 74,
     "metadata": {},
     "output_type": "execute_result"
    }
   ],
   "source": [
    "x_train_cv.shape, x_test_cv.shape"
   ]
  },
  {
   "cell_type": "code",
   "execution_count": 75,
   "metadata": {
    "colab": {},
    "colab_type": "code",
    "id": "LqULoyX5LsEH"
   },
   "outputs": [],
   "source": [
    "#x_train_cv[0:5]"
   ]
  },
  {
   "cell_type": "code",
   "execution_count": 76,
   "metadata": {
    "colab": {
     "base_uri": "https://localhost:8080/",
     "height": 136
    },
    "colab_type": "code",
    "id": "smalZGTILu_N",
    "outputId": "93245734-79a3-4c3f-aece-2720cd59bb8b"
   },
   "outputs": [
    {
     "data": {
      "text/plain": [
       "array([[0, 0, 0, ..., 0, 0, 0],\n",
       "       [0, 0, 0, ..., 0, 0, 0],\n",
       "       [0, 0, 0, ..., 0, 0, 0],\n",
       "       ...,\n",
       "       [0, 0, 0, ..., 0, 0, 0],\n",
       "       [0, 0, 0, ..., 0, 0, 0],\n",
       "       [0, 0, 0, ..., 0, 0, 0]], dtype=int64)"
      ]
     },
     "execution_count": 76,
     "metadata": {},
     "output_type": "execute_result"
    }
   ],
   "source": [
    "x_array = x_train_cv.toarray()\n",
    "x_array"
   ]
  },
  {
   "cell_type": "code",
   "execution_count": 38,
   "metadata": {
    "colab": {
     "base_uri": "https://localhost:8080/",
     "height": 136
    },
    "colab_type": "code",
    "id": "nrgWPsOBMmsU",
    "outputId": "d0f1c931-438d-4306-9981-86d88fb0fa0d"
   },
   "outputs": [
    {
     "data": {
      "text/plain": [
       "[array(['after', 'been', 'causes', 'constipation', 'day', 'days', 'die',\n",
       "        'drive', 'go', 'have', 'headaches', 'heroin', 'ihad', 'ill',\n",
       "        'into', 'it', 'killed', 'like', 'meds', 'missed', 'more', 'much',\n",
       "        'must', 'my', 'never', 'nursing', 'of', 'or', 'per', 'serious',\n",
       "        'sex', 'skipping', 'so', 'softeners', 'stool', 'stop', 'take',\n",
       "        'than', 'three', 'to', 'two', 'wanted', 'withdrawal', 'you'],\n",
       "       dtype='<U18')]"
      ]
     },
     "execution_count": 38,
     "metadata": {},
     "output_type": "execute_result"
    }
   ],
   "source": [
    "cv.inverse_transform(x_array[10])"
   ]
  },
  {
   "cell_type": "code",
   "execution_count": 39,
   "metadata": {
    "colab": {
     "base_uri": "https://localhost:8080/",
     "height": 34
    },
    "colab_type": "code",
    "id": "EO-WCpeh4y2I",
    "outputId": "f4de708b-5c59-43ba-a762-c54369663fc1"
   },
   "outputs": [
    {
     "data": {
      "text/plain": [
       "dict"
      ]
     },
     "execution_count": 39,
     "metadata": {},
     "output_type": "execute_result"
    }
   ],
   "source": [
    "type(cv.vocabulary_)"
   ]
  },
  {
   "cell_type": "code",
   "execution_count": 40,
   "metadata": {
    "colab": {},
    "colab_type": "code",
    "id": "Q7NzC_iWPHeK"
   },
   "outputs": [],
   "source": [
    "vocab_df = pd.Series(cv.vocabulary_).to_frame('feature_count')"
   ]
  },
  {
   "cell_type": "code",
   "execution_count": 41,
   "metadata": {
    "colab": {
     "base_uri": "https://localhost:8080/",
     "height": 129
    },
    "colab_type": "code",
    "id": "nmKcGYqf5t8j",
    "outputId": "1b5d4526-c50e-48b3-b8c5-ee62870e6492"
   },
   "outputs": [
    {
     "data": {
      "text/html": [
       "<div>\n",
       "<style scoped>\n",
       "    .dataframe tbody tr th:only-of-type {\n",
       "        vertical-align: middle;\n",
       "    }\n",
       "\n",
       "    .dataframe tbody tr th {\n",
       "        vertical-align: top;\n",
       "    }\n",
       "\n",
       "    .dataframe thead th {\n",
       "        text-align: right;\n",
       "    }\n",
       "</style>\n",
       "<table border=\"1\" class=\"dataframe\">\n",
       "  <thead>\n",
       "    <tr style=\"text-align: right;\">\n",
       "      <th></th>\n",
       "      <th>edema</th>\n",
       "      <th>excesive</th>\n",
       "      <th>bleeding</th>\n",
       "      <th>felt</th>\n",
       "      <th>nauseous</th>\n",
       "      <th>bloated</th>\n",
       "      <th>the</th>\n",
       "      <th>biggest</th>\n",
       "      <th>side</th>\n",
       "      <th>effect</th>\n",
       "      <th>...</th>\n",
       "      <th>homebound</th>\n",
       "      <th>realistic</th>\n",
       "      <th>sugary</th>\n",
       "      <th>minocin</th>\n",
       "      <th>tinnutus</th>\n",
       "      <th>dismay</th>\n",
       "      <th>furthermore</th>\n",
       "      <th>fortunately</th>\n",
       "      <th>inert</th>\n",
       "      <th>clockwork</th>\n",
       "    </tr>\n",
       "  </thead>\n",
       "  <tbody>\n",
       "    <tr>\n",
       "      <th>feature_count</th>\n",
       "      <td>2155</td>\n",
       "      <td>2377</td>\n",
       "      <td>876</td>\n",
       "      <td>2534</td>\n",
       "      <td>4208</td>\n",
       "      <td>892</td>\n",
       "      <td>6359</td>\n",
       "      <td>834</td>\n",
       "      <td>5652</td>\n",
       "      <td>2166</td>\n",
       "      <td>...</td>\n",
       "      <td>3103</td>\n",
       "      <td>5109</td>\n",
       "      <td>6126</td>\n",
       "      <td>4039</td>\n",
       "      <td>6479</td>\n",
       "      <td>1961</td>\n",
       "      <td>2782</td>\n",
       "      <td>2717</td>\n",
       "      <td>3320</td>\n",
       "      <td>1258</td>\n",
       "    </tr>\n",
       "  </tbody>\n",
       "</table>\n",
       "<p>1 rows × 7174 columns</p>\n",
       "</div>"
      ],
      "text/plain": [
       "               edema  excesive  bleeding  felt  nauseous  bloated   the  \\\n",
       "feature_count   2155      2377       876  2534      4208      892  6359   \n",
       "\n",
       "               biggest  side  effect  ...  homebound  realistic  sugary  \\\n",
       "feature_count      834  5652    2166  ...       3103       5109    6126   \n",
       "\n",
       "               minocin  tinnutus  dismay  furthermore  fortunately  inert  \\\n",
       "feature_count     4039      6479    1961         2782         2717   3320   \n",
       "\n",
       "               clockwork  \n",
       "feature_count       1258  \n",
       "\n",
       "[1 rows x 7174 columns]"
      ]
     },
     "execution_count": 41,
     "metadata": {},
     "output_type": "execute_result"
    }
   ],
   "source": [
    "vocab_df.T"
   ]
  },
  {
   "cell_type": "code",
   "execution_count": 42,
   "metadata": {
    "colab": {
     "base_uri": "https://localhost:8080/",
     "height": 129
    },
    "colab_type": "code",
    "id": "gWadldCG6IqK",
    "outputId": "6c35d5a7-5cfc-44dd-cfca-d13b93b7204c"
   },
   "outputs": [
    {
     "data": {
      "text/html": [
       "<div>\n",
       "<style scoped>\n",
       "    .dataframe tbody tr th:only-of-type {\n",
       "        vertical-align: middle;\n",
       "    }\n",
       "\n",
       "    .dataframe tbody tr th {\n",
       "        vertical-align: top;\n",
       "    }\n",
       "\n",
       "    .dataframe thead th {\n",
       "        text-align: right;\n",
       "    }\n",
       "</style>\n",
       "<table border=\"1\" class=\"dataframe\">\n",
       "  <thead>\n",
       "    <tr style=\"text-align: right;\">\n",
       "      <th></th>\n",
       "      <th>00</th>\n",
       "      <th>000</th>\n",
       "      <th>000mg</th>\n",
       "      <th>00pm</th>\n",
       "      <th>025</th>\n",
       "      <th>05</th>\n",
       "      <th>07</th>\n",
       "      <th>08</th>\n",
       "      <th>10</th>\n",
       "      <th>100</th>\n",
       "      <th>...</th>\n",
       "      <th>zithromycin</th>\n",
       "      <th>zocor</th>\n",
       "      <th>zofran</th>\n",
       "      <th>zoloft</th>\n",
       "      <th>zombie</th>\n",
       "      <th>zombing</th>\n",
       "      <th>zomig</th>\n",
       "      <th>zyban</th>\n",
       "      <th>zyprexa</th>\n",
       "      <th>zyrtec</th>\n",
       "    </tr>\n",
       "  </thead>\n",
       "  <tbody>\n",
       "    <tr>\n",
       "      <th>feature_count</th>\n",
       "      <td>0</td>\n",
       "      <td>1</td>\n",
       "      <td>2</td>\n",
       "      <td>3</td>\n",
       "      <td>4</td>\n",
       "      <td>5</td>\n",
       "      <td>6</td>\n",
       "      <td>7</td>\n",
       "      <td>8</td>\n",
       "      <td>9</td>\n",
       "      <td>...</td>\n",
       "      <td>7164</td>\n",
       "      <td>7165</td>\n",
       "      <td>7166</td>\n",
       "      <td>7167</td>\n",
       "      <td>7168</td>\n",
       "      <td>7169</td>\n",
       "      <td>7170</td>\n",
       "      <td>7171</td>\n",
       "      <td>7172</td>\n",
       "      <td>7173</td>\n",
       "    </tr>\n",
       "  </tbody>\n",
       "</table>\n",
       "<p>1 rows × 7174 columns</p>\n",
       "</div>"
      ],
      "text/plain": [
       "               00  000  000mg  00pm  025  05  07  08  10  100  ...  \\\n",
       "feature_count   0    1      2     3    4   5   6   7   8    9  ...   \n",
       "\n",
       "               zithromycin  zocor  zofran  zoloft  zombie  zombing  zomig  \\\n",
       "feature_count         7164   7165    7166    7167    7168     7169   7170   \n",
       "\n",
       "               zyban  zyprexa  zyrtec  \n",
       "feature_count   7171     7172    7173  \n",
       "\n",
       "[1 rows x 7174 columns]"
      ]
     },
     "execution_count": 42,
     "metadata": {},
     "output_type": "execute_result"
    }
   ],
   "source": [
    "vocab_df.sort_values(by='feature_count').T"
   ]
  },
  {
   "cell_type": "markdown",
   "metadata": {
    "colab_type": "text",
    "id": "X9weZwQ_wvY2"
   },
   "source": [
    "##sklearn's CountVectorizer with ngram"
   ]
  },
  {
   "cell_type": "code",
   "execution_count": 43,
   "metadata": {
    "colab": {},
    "colab_type": "code",
    "id": "NPndFTrTwuiq"
   },
   "outputs": [],
   "source": [
    "cv2 = CountVectorizer(ngram_range=(1,2))\n",
    "x_train_cv_2= cv2.fit_transform(x_train)\n",
    "x_test_cv_2 = cv2.transform(x_test)"
   ]
  },
  {
   "cell_type": "code",
   "execution_count": 44,
   "metadata": {
    "colab": {
     "base_uri": "https://localhost:8080/",
     "height": 34
    },
    "colab_type": "code",
    "id": "xiEE1xJrw_QI",
    "outputId": "04e327a2-07dc-4ec3-d97e-e726274c68cb"
   },
   "outputs": [
    {
     "data": {
      "text/plain": [
       "((3305, 55581), (827, 55581))"
      ]
     },
     "execution_count": 44,
     "metadata": {},
     "output_type": "execute_result"
    }
   ],
   "source": [
    "x_train_cv_2.shape, x_test_cv_2.shape"
   ]
  },
  {
   "cell_type": "code",
   "execution_count": 45,
   "metadata": {
    "colab": {
     "base_uri": "https://localhost:8080/",
     "height": 136
    },
    "colab_type": "code",
    "id": "XxxQhOnDxVjr",
    "outputId": "48112108-9062-47d5-8684-bae2bd236c41"
   },
   "outputs": [
    {
     "data": {
      "text/plain": [
       "array([[0, 0, 0, ..., 0, 0, 0],\n",
       "       [0, 0, 0, ..., 0, 0, 0],\n",
       "       [0, 0, 0, ..., 0, 0, 0],\n",
       "       ...,\n",
       "       [0, 0, 0, ..., 0, 0, 0],\n",
       "       [0, 0, 0, ..., 0, 0, 0],\n",
       "       [0, 0, 0, ..., 0, 0, 0]], dtype=int64)"
      ]
     },
     "execution_count": 45,
     "metadata": {},
     "output_type": "execute_result"
    }
   ],
   "source": [
    "x_array_2 = x_train_cv_2.toarray()\n",
    "x_array_2"
   ]
  },
  {
   "cell_type": "code",
   "execution_count": 46,
   "metadata": {
    "colab": {
     "base_uri": "https://localhost:8080/",
     "height": 221
    },
    "colab_type": "code",
    "id": "ayMjcXFJxg60",
    "outputId": "77a21347-c7a3-4810-81a6-57b88d90d664"
   },
   "outputs": [
    {
     "data": {
      "text/plain": [
       "[array(['2nd and', 'about pos', 'activiites also', 'affective immediatley',\n",
       "        'afterward were', 'afterwards', 'alarming but', 'allergy test',\n",
       "        'and after', 'and comes', 'and consultant', 'and disabling',\n",
       "        'and glutamate', 'and going', 'and mentally', 'and nothing',\n",
       "        'and post', 'and steroid', 'anger the', 'antacid',\n",
       "        'antibiotics first', 'anxiety anxiety', 'anxiety haven',\n",
       "        'anxiety hyperactivity', 'any fragrance', 'any typical',\n",
       "        'anything happens', 'apnea', 'approx', 'attribute', 'augmentin 22',\n",
       "        'away swiftly', 'back currently', 'back maybe', 'bathroom due',\n",
       "        'bathroom had', 'be unrelated', 'became sizes', 'because tired',\n",
       "        'bed anything', 'been sleeping', 'being punched', 'better off',\n",
       "        'biotin'], dtype='<U29')]"
      ]
     },
     "execution_count": 46,
     "metadata": {},
     "output_type": "execute_result"
    }
   ],
   "source": [
    "cv2.inverse_transform(x_array[10])"
   ]
  },
  {
   "cell_type": "code",
   "execution_count": 47,
   "metadata": {
    "colab": {},
    "colab_type": "code",
    "id": "GPo7pKT57LbV"
   },
   "outputs": [],
   "source": [
    "vocab_df_2 = pd.Series(cv2.vocabulary_).to_frame('feature_count')"
   ]
  },
  {
   "cell_type": "code",
   "execution_count": 48,
   "metadata": {
    "colab": {
     "base_uri": "https://localhost:8080/",
     "height": 146
    },
    "colab_type": "code",
    "id": "iNa2DbpN7X1a",
    "outputId": "116790af-83ef-49a6-cc34-f0e2cf25f1db"
   },
   "outputs": [
    {
     "data": {
      "text/html": [
       "<div>\n",
       "<style scoped>\n",
       "    .dataframe tbody tr th:only-of-type {\n",
       "        vertical-align: middle;\n",
       "    }\n",
       "\n",
       "    .dataframe tbody tr th {\n",
       "        vertical-align: top;\n",
       "    }\n",
       "\n",
       "    .dataframe thead th {\n",
       "        text-align: right;\n",
       "    }\n",
       "</style>\n",
       "<table border=\"1\" class=\"dataframe\">\n",
       "  <thead>\n",
       "    <tr style=\"text-align: right;\">\n",
       "      <th></th>\n",
       "      <th>edema</th>\n",
       "      <th>excesive</th>\n",
       "      <th>bleeding</th>\n",
       "      <th>excesive bleeding</th>\n",
       "      <th>felt</th>\n",
       "      <th>nauseous</th>\n",
       "      <th>bloated</th>\n",
       "      <th>felt nauseous</th>\n",
       "      <th>nauseous bloated</th>\n",
       "      <th>the</th>\n",
       "      <th>...</th>\n",
       "      <th>inert</th>\n",
       "      <th>clockwork</th>\n",
       "      <th>whatsoever periods</th>\n",
       "      <th>periods were</th>\n",
       "      <th>on inert</th>\n",
       "      <th>inert pills</th>\n",
       "      <th>pills periods</th>\n",
       "      <th>periods came</th>\n",
       "      <th>came like</th>\n",
       "      <th>like clockwork</th>\n",
       "    </tr>\n",
       "  </thead>\n",
       "  <tbody>\n",
       "    <tr>\n",
       "      <th>feature_count</th>\n",
       "      <td>14790</td>\n",
       "      <td>16164</td>\n",
       "      <td>7278</td>\n",
       "      <td>16165</td>\n",
       "      <td>17500</td>\n",
       "      <td>31284</td>\n",
       "      <td>7362</td>\n",
       "      <td>17562</td>\n",
       "      <td>31288</td>\n",
       "      <td>46195</td>\n",
       "      <td>...</td>\n",
       "      <td>23773</td>\n",
       "      <td>9490</td>\n",
       "      <td>53552</td>\n",
       "      <td>36299</td>\n",
       "      <td>34105</td>\n",
       "      <td>23774</td>\n",
       "      <td>36626</td>\n",
       "      <td>36288</td>\n",
       "      <td>8495</td>\n",
       "      <td>26783</td>\n",
       "    </tr>\n",
       "  </tbody>\n",
       "</table>\n",
       "<p>1 rows × 55581 columns</p>\n",
       "</div>"
      ],
      "text/plain": [
       "               edema  excesive  bleeding  excesive bleeding   felt  nauseous  \\\n",
       "feature_count  14790     16164      7278              16165  17500     31284   \n",
       "\n",
       "               bloated  felt nauseous  nauseous bloated    the  ...  inert  \\\n",
       "feature_count     7362          17562             31288  46195  ...  23773   \n",
       "\n",
       "               clockwork  whatsoever periods  periods were  on inert  \\\n",
       "feature_count       9490               53552         36299     34105   \n",
       "\n",
       "               inert pills  pills periods  periods came  came like  \\\n",
       "feature_count        23774          36626         36288       8495   \n",
       "\n",
       "               like clockwork  \n",
       "feature_count           26783  \n",
       "\n",
       "[1 rows x 55581 columns]"
      ]
     },
     "execution_count": 48,
     "metadata": {},
     "output_type": "execute_result"
    }
   ],
   "source": [
    "vocab_df_2.T"
   ]
  },
  {
   "cell_type": "code",
   "execution_count": 49,
   "metadata": {
    "colab": {
     "base_uri": "https://localhost:8080/",
     "height": 146
    },
    "colab_type": "code",
    "id": "6Ob8SUzv7gRK",
    "outputId": "e4ae2cdd-c98f-429d-8d15-89cbe46749fe"
   },
   "outputs": [
    {
     "data": {
      "text/html": [
       "<div>\n",
       "<style scoped>\n",
       "    .dataframe tbody tr th:only-of-type {\n",
       "        vertical-align: middle;\n",
       "    }\n",
       "\n",
       "    .dataframe tbody tr th {\n",
       "        vertical-align: top;\n",
       "    }\n",
       "\n",
       "    .dataframe thead th {\n",
       "        text-align: right;\n",
       "    }\n",
       "</style>\n",
       "<table border=\"1\" class=\"dataframe\">\n",
       "  <thead>\n",
       "    <tr style=\"text-align: right;\">\n",
       "      <th></th>\n",
       "      <th>00</th>\n",
       "      <th>00 and</th>\n",
       "      <th>00 at</th>\n",
       "      <th>000</th>\n",
       "      <th>000 on</th>\n",
       "      <th>000 people</th>\n",
       "      <th>000mg</th>\n",
       "      <th>000mg per</th>\n",
       "      <th>00pm</th>\n",
       "      <th>00pm makes</th>\n",
       "      <th>...</th>\n",
       "      <th>zyban made</th>\n",
       "      <th>zyban should</th>\n",
       "      <th>zyprexa</th>\n",
       "      <th>zyprexa for</th>\n",
       "      <th>zyrtec</th>\n",
       "      <th>zyrtec at</th>\n",
       "      <th>zyrtec however</th>\n",
       "      <th>zyrtec in</th>\n",
       "      <th>zyrtec often</th>\n",
       "      <th>zyrtec we</th>\n",
       "    </tr>\n",
       "  </thead>\n",
       "  <tbody>\n",
       "    <tr>\n",
       "      <th>feature_count</th>\n",
       "      <td>0</td>\n",
       "      <td>1</td>\n",
       "      <td>2</td>\n",
       "      <td>3</td>\n",
       "      <td>4</td>\n",
       "      <td>5</td>\n",
       "      <td>6</td>\n",
       "      <td>7</td>\n",
       "      <td>8</td>\n",
       "      <td>9</td>\n",
       "      <td>...</td>\n",
       "      <td>55571</td>\n",
       "      <td>55572</td>\n",
       "      <td>55573</td>\n",
       "      <td>55574</td>\n",
       "      <td>55575</td>\n",
       "      <td>55576</td>\n",
       "      <td>55577</td>\n",
       "      <td>55578</td>\n",
       "      <td>55579</td>\n",
       "      <td>55580</td>\n",
       "    </tr>\n",
       "  </tbody>\n",
       "</table>\n",
       "<p>1 rows × 55581 columns</p>\n",
       "</div>"
      ],
      "text/plain": [
       "               00  00 and  00 at  000  000 on  000 people  000mg  000mg per  \\\n",
       "feature_count   0       1      2    3       4           5      6          7   \n",
       "\n",
       "               00pm  00pm makes  ...  zyban made  zyban should  zyprexa  \\\n",
       "feature_count     8           9  ...       55571         55572    55573   \n",
       "\n",
       "               zyprexa for  zyrtec  zyrtec at  zyrtec however  zyrtec in  \\\n",
       "feature_count        55574   55575      55576           55577      55578   \n",
       "\n",
       "               zyrtec often  zyrtec we  \n",
       "feature_count         55579      55580  \n",
       "\n",
       "[1 rows x 55581 columns]"
      ]
     },
     "execution_count": 49,
     "metadata": {},
     "output_type": "execute_result"
    }
   ],
   "source": [
    "vocab_df_2.sort_values(by='feature_count').T"
   ]
  },
  {
   "cell_type": "markdown",
   "metadata": {
    "colab_type": "text",
    "id": "QLkh3ktgdsxR"
   },
   "source": [
    "## sklearn's TfidfVectorizer"
   ]
  },
  {
   "cell_type": "code",
   "execution_count": 50,
   "metadata": {
    "colab": {},
    "colab_type": "code",
    "id": "jQ4LHjacvpJ2"
   },
   "outputs": [],
   "source": [
    "tv = TfidfVectorizer()\n",
    "x_train_tv = tv.fit_transform(x_train)\n",
    "x_test_tv = tv.transform(x_test)"
   ]
  },
  {
   "cell_type": "code",
   "execution_count": 51,
   "metadata": {
    "colab": {
     "base_uri": "https://localhost:8080/",
     "height": 34
    },
    "colab_type": "code",
    "id": "MIB4pAQ9vvdJ",
    "outputId": "ade13fd5-98e8-444a-be19-45e87436152e"
   },
   "outputs": [
    {
     "data": {
      "text/plain": [
       "((3305, 7174), (827, 7174))"
      ]
     },
     "execution_count": 51,
     "metadata": {},
     "output_type": "execute_result"
    }
   ],
   "source": [
    "x_train_tv.shape, x_test_tv.shape"
   ]
  },
  {
   "cell_type": "code",
   "execution_count": 52,
   "metadata": {
    "colab": {
     "base_uri": "https://localhost:8080/",
     "height": 136
    },
    "colab_type": "code",
    "id": "ZJjO3fnZv45Z",
    "outputId": "d99d61b0-bafb-42bb-a24d-8d649aa84ea1"
   },
   "outputs": [
    {
     "data": {
      "text/plain": [
       "array([[0., 0., 0., ..., 0., 0., 0.],\n",
       "       [0., 0., 0., ..., 0., 0., 0.],\n",
       "       [0., 0., 0., ..., 0., 0., 0.],\n",
       "       ...,\n",
       "       [0., 0., 0., ..., 0., 0., 0.],\n",
       "       [0., 0., 0., ..., 0., 0., 0.],\n",
       "       [0., 0., 0., ..., 0., 0., 0.]])"
      ]
     },
     "execution_count": 52,
     "metadata": {},
     "output_type": "execute_result"
    }
   ],
   "source": [
    "t_array = x_train_tv.toarray()\n",
    "t_array"
   ]
  },
  {
   "cell_type": "code",
   "execution_count": 53,
   "metadata": {
    "colab": {
     "base_uri": "https://localhost:8080/",
     "height": 136
    },
    "colab_type": "code",
    "id": "jd29lx9yw2EM",
    "outputId": "2224e49a-36e1-402b-dcc6-cc8b88e9be96"
   },
   "outputs": [
    {
     "data": {
      "text/plain": [
       "[array(['after', 'been', 'causes', 'constipation', 'day', 'days', 'die',\n",
       "        'drive', 'go', 'have', 'headaches', 'heroin', 'ihad', 'ill',\n",
       "        'into', 'it', 'killed', 'like', 'meds', 'missed', 'more', 'much',\n",
       "        'must', 'my', 'never', 'nursing', 'of', 'or', 'per', 'serious',\n",
       "        'sex', 'skipping', 'so', 'softeners', 'stool', 'stop', 'take',\n",
       "        'than', 'three', 'to', 'two', 'wanted', 'withdrawal', 'you'],\n",
       "       dtype='<U18')]"
      ]
     },
     "execution_count": 53,
     "metadata": {},
     "output_type": "execute_result"
    }
   ],
   "source": [
    "tv.inverse_transform(t_array[10])"
   ]
  },
  {
   "cell_type": "code",
   "execution_count": 54,
   "metadata": {
    "colab": {
     "base_uri": "https://localhost:8080/",
     "height": 129
    },
    "colab_type": "code",
    "id": "xAi3FhVm9h2J",
    "outputId": "de51d899-4607-4d10-ef1c-ed79618d3eb4"
   },
   "outputs": [
    {
     "data": {
      "text/html": [
       "<div>\n",
       "<style scoped>\n",
       "    .dataframe tbody tr th:only-of-type {\n",
       "        vertical-align: middle;\n",
       "    }\n",
       "\n",
       "    .dataframe tbody tr th {\n",
       "        vertical-align: top;\n",
       "    }\n",
       "\n",
       "    .dataframe thead th {\n",
       "        text-align: right;\n",
       "    }\n",
       "</style>\n",
       "<table border=\"1\" class=\"dataframe\">\n",
       "  <thead>\n",
       "    <tr style=\"text-align: right;\">\n",
       "      <th></th>\n",
       "      <th>0</th>\n",
       "      <th>1</th>\n",
       "      <th>2</th>\n",
       "      <th>3</th>\n",
       "      <th>4</th>\n",
       "      <th>5</th>\n",
       "      <th>6</th>\n",
       "      <th>7</th>\n",
       "      <th>8</th>\n",
       "      <th>9</th>\n",
       "      <th>...</th>\n",
       "      <th>7164</th>\n",
       "      <th>7165</th>\n",
       "      <th>7166</th>\n",
       "      <th>7167</th>\n",
       "      <th>7168</th>\n",
       "      <th>7169</th>\n",
       "      <th>7170</th>\n",
       "      <th>7171</th>\n",
       "      <th>7172</th>\n",
       "      <th>7173</th>\n",
       "    </tr>\n",
       "  </thead>\n",
       "  <tbody>\n",
       "    <tr>\n",
       "      <th>feature_count</th>\n",
       "      <td>7.7172</td>\n",
       "      <td>8.004882</td>\n",
       "      <td>8.410347</td>\n",
       "      <td>8.410347</td>\n",
       "      <td>8.410347</td>\n",
       "      <td>8.410347</td>\n",
       "      <td>8.004882</td>\n",
       "      <td>8.410347</td>\n",
       "      <td>4.898802</td>\n",
       "      <td>6.538545</td>\n",
       "      <td>...</td>\n",
       "      <td>8.410347</td>\n",
       "      <td>8.410347</td>\n",
       "      <td>8.004882</td>\n",
       "      <td>6.90627</td>\n",
       "      <td>6.395444</td>\n",
       "      <td>8.410347</td>\n",
       "      <td>8.004882</td>\n",
       "      <td>7.494056</td>\n",
       "      <td>8.004882</td>\n",
       "      <td>7.494056</td>\n",
       "    </tr>\n",
       "  </tbody>\n",
       "</table>\n",
       "<p>1 rows × 7174 columns</p>\n",
       "</div>"
      ],
      "text/plain": [
       "                 0         1         2         3         4         5     \\\n",
       "feature_count  7.7172  8.004882  8.410347  8.410347  8.410347  8.410347   \n",
       "\n",
       "                   6         7         8         9     ...      7164  \\\n",
       "feature_count  8.004882  8.410347  4.898802  6.538545  ...  8.410347   \n",
       "\n",
       "                   7165      7166     7167      7168      7169      7170  \\\n",
       "feature_count  8.410347  8.004882  6.90627  6.395444  8.410347  8.004882   \n",
       "\n",
       "                   7171      7172      7173  \n",
       "feature_count  7.494056  8.004882  7.494056  \n",
       "\n",
       "[1 rows x 7174 columns]"
      ]
     },
     "execution_count": 54,
     "metadata": {},
     "output_type": "execute_result"
    }
   ],
   "source": [
    "pd.Series(tv.idf_).to_frame('feature_count').T"
   ]
  },
  {
   "cell_type": "code",
   "execution_count": 55,
   "metadata": {
    "colab": {},
    "colab_type": "code",
    "id": "gSYpq-0m8JMA"
   },
   "outputs": [],
   "source": [
    "vocab_df_3 = pd.Series(tv.vocabulary_).to_frame('feature_count')"
   ]
  },
  {
   "cell_type": "code",
   "execution_count": 56,
   "metadata": {
    "colab": {
     "base_uri": "https://localhost:8080/",
     "height": 129
    },
    "colab_type": "code",
    "id": "u1iHOzUl8XMW",
    "outputId": "25998d78-587d-4ded-b871-457e99c0934e"
   },
   "outputs": [
    {
     "data": {
      "text/html": [
       "<div>\n",
       "<style scoped>\n",
       "    .dataframe tbody tr th:only-of-type {\n",
       "        vertical-align: middle;\n",
       "    }\n",
       "\n",
       "    .dataframe tbody tr th {\n",
       "        vertical-align: top;\n",
       "    }\n",
       "\n",
       "    .dataframe thead th {\n",
       "        text-align: right;\n",
       "    }\n",
       "</style>\n",
       "<table border=\"1\" class=\"dataframe\">\n",
       "  <thead>\n",
       "    <tr style=\"text-align: right;\">\n",
       "      <th></th>\n",
       "      <th>edema</th>\n",
       "      <th>excesive</th>\n",
       "      <th>bleeding</th>\n",
       "      <th>felt</th>\n",
       "      <th>nauseous</th>\n",
       "      <th>bloated</th>\n",
       "      <th>the</th>\n",
       "      <th>biggest</th>\n",
       "      <th>side</th>\n",
       "      <th>effect</th>\n",
       "      <th>...</th>\n",
       "      <th>homebound</th>\n",
       "      <th>realistic</th>\n",
       "      <th>sugary</th>\n",
       "      <th>minocin</th>\n",
       "      <th>tinnutus</th>\n",
       "      <th>dismay</th>\n",
       "      <th>furthermore</th>\n",
       "      <th>fortunately</th>\n",
       "      <th>inert</th>\n",
       "      <th>clockwork</th>\n",
       "    </tr>\n",
       "  </thead>\n",
       "  <tbody>\n",
       "    <tr>\n",
       "      <th>feature_count</th>\n",
       "      <td>2155</td>\n",
       "      <td>2377</td>\n",
       "      <td>876</td>\n",
       "      <td>2534</td>\n",
       "      <td>4208</td>\n",
       "      <td>892</td>\n",
       "      <td>6359</td>\n",
       "      <td>834</td>\n",
       "      <td>5652</td>\n",
       "      <td>2166</td>\n",
       "      <td>...</td>\n",
       "      <td>3103</td>\n",
       "      <td>5109</td>\n",
       "      <td>6126</td>\n",
       "      <td>4039</td>\n",
       "      <td>6479</td>\n",
       "      <td>1961</td>\n",
       "      <td>2782</td>\n",
       "      <td>2717</td>\n",
       "      <td>3320</td>\n",
       "      <td>1258</td>\n",
       "    </tr>\n",
       "  </tbody>\n",
       "</table>\n",
       "<p>1 rows × 7174 columns</p>\n",
       "</div>"
      ],
      "text/plain": [
       "               edema  excesive  bleeding  felt  nauseous  bloated   the  \\\n",
       "feature_count   2155      2377       876  2534      4208      892  6359   \n",
       "\n",
       "               biggest  side  effect  ...  homebound  realistic  sugary  \\\n",
       "feature_count      834  5652    2166  ...       3103       5109    6126   \n",
       "\n",
       "               minocin  tinnutus  dismay  furthermore  fortunately  inert  \\\n",
       "feature_count     4039      6479    1961         2782         2717   3320   \n",
       "\n",
       "               clockwork  \n",
       "feature_count       1258  \n",
       "\n",
       "[1 rows x 7174 columns]"
      ]
     },
     "execution_count": 56,
     "metadata": {},
     "output_type": "execute_result"
    }
   ],
   "source": [
    "vocab_df_3.T"
   ]
  },
  {
   "cell_type": "code",
   "execution_count": 57,
   "metadata": {
    "colab": {
     "base_uri": "https://localhost:8080/",
     "height": 129
    },
    "colab_type": "code",
    "id": "F0xETQml8aSw",
    "outputId": "db03e567-daa9-4575-9831-3c4d35b38700"
   },
   "outputs": [
    {
     "data": {
      "text/html": [
       "<div>\n",
       "<style scoped>\n",
       "    .dataframe tbody tr th:only-of-type {\n",
       "        vertical-align: middle;\n",
       "    }\n",
       "\n",
       "    .dataframe tbody tr th {\n",
       "        vertical-align: top;\n",
       "    }\n",
       "\n",
       "    .dataframe thead th {\n",
       "        text-align: right;\n",
       "    }\n",
       "</style>\n",
       "<table border=\"1\" class=\"dataframe\">\n",
       "  <thead>\n",
       "    <tr style=\"text-align: right;\">\n",
       "      <th></th>\n",
       "      <th>00</th>\n",
       "      <th>000</th>\n",
       "      <th>000mg</th>\n",
       "      <th>00pm</th>\n",
       "      <th>025</th>\n",
       "      <th>05</th>\n",
       "      <th>07</th>\n",
       "      <th>08</th>\n",
       "      <th>10</th>\n",
       "      <th>100</th>\n",
       "      <th>...</th>\n",
       "      <th>zithromycin</th>\n",
       "      <th>zocor</th>\n",
       "      <th>zofran</th>\n",
       "      <th>zoloft</th>\n",
       "      <th>zombie</th>\n",
       "      <th>zombing</th>\n",
       "      <th>zomig</th>\n",
       "      <th>zyban</th>\n",
       "      <th>zyprexa</th>\n",
       "      <th>zyrtec</th>\n",
       "    </tr>\n",
       "  </thead>\n",
       "  <tbody>\n",
       "    <tr>\n",
       "      <th>feature_count</th>\n",
       "      <td>0</td>\n",
       "      <td>1</td>\n",
       "      <td>2</td>\n",
       "      <td>3</td>\n",
       "      <td>4</td>\n",
       "      <td>5</td>\n",
       "      <td>6</td>\n",
       "      <td>7</td>\n",
       "      <td>8</td>\n",
       "      <td>9</td>\n",
       "      <td>...</td>\n",
       "      <td>7164</td>\n",
       "      <td>7165</td>\n",
       "      <td>7166</td>\n",
       "      <td>7167</td>\n",
       "      <td>7168</td>\n",
       "      <td>7169</td>\n",
       "      <td>7170</td>\n",
       "      <td>7171</td>\n",
       "      <td>7172</td>\n",
       "      <td>7173</td>\n",
       "    </tr>\n",
       "  </tbody>\n",
       "</table>\n",
       "<p>1 rows × 7174 columns</p>\n",
       "</div>"
      ],
      "text/plain": [
       "               00  000  000mg  00pm  025  05  07  08  10  100  ...  \\\n",
       "feature_count   0    1      2     3    4   5   6   7   8    9  ...   \n",
       "\n",
       "               zithromycin  zocor  zofran  zoloft  zombie  zombing  zomig  \\\n",
       "feature_count         7164   7165    7166    7167    7168     7169   7170   \n",
       "\n",
       "               zyban  zyprexa  zyrtec  \n",
       "feature_count   7171     7172    7173  \n",
       "\n",
       "[1 rows x 7174 columns]"
      ]
     },
     "execution_count": 57,
     "metadata": {},
     "output_type": "execute_result"
    }
   ],
   "source": [
    "vocab_df_3.sort_values(by='feature_count').T"
   ]
  },
  {
   "cell_type": "markdown",
   "metadata": {
    "colab_type": "text",
    "id": "5y7t1P40A1Pp"
   },
   "source": [
    "Sklearn's HashingVectorizer"
   ]
  },
  {
   "cell_type": "code",
   "execution_count": 66,
   "metadata": {
    "colab": {},
    "colab_type": "code",
    "id": "IPpfcMkv8xjj"
   },
   "outputs": [],
   "source": [
    "hv = HashingVectorizer()\n",
    "x_train = hv.fit_transform(x_train)\n",
    "x_test = hv.transform(x_test)"
   ]
  },
  {
   "cell_type": "code",
   "execution_count": 67,
   "metadata": {
    "colab": {
     "base_uri": "https://localhost:8080/",
     "height": 34
    },
    "colab_type": "code",
    "id": "IV2OT1oTBV6w",
    "outputId": "a72f8ed9-e2e0-4994-fddc-36e93e0a1918"
   },
   "outputs": [
    {
     "data": {
      "text/plain": [
       "((827, 1048576), (3305, 1048576))"
      ]
     },
     "execution_count": 67,
     "metadata": {},
     "output_type": "execute_result"
    }
   ],
   "source": [
    "x_test.shape, x_train.shape"
   ]
  },
  {
   "cell_type": "code",
   "execution_count": 68,
   "metadata": {
    "colab": {
     "base_uri": "https://localhost:8080/",
     "height": 54
    },
    "colab_type": "code",
    "id": "WOI1RRGkBvqK",
    "outputId": "75a27d96-fb08-4be7-d8d8-490e21df676d"
   },
   "outputs": [
    {
     "name": "stdout",
     "output_type": "stream",
     "text": [
      "{'alternate_sign': True, 'analyzer': 'word', 'binary': False, 'decode_error': 'strict', 'dtype': <class 'numpy.float64'>, 'encoding': 'utf-8', 'input': 'content', 'lowercase': True, 'n_features': 1048576, 'ngram_range': (1, 1), 'norm': 'l2', 'preprocessor': None, 'stop_words': None, 'strip_accents': None, 'token_pattern': '(?u)\\\\b\\\\w\\\\w+\\\\b', 'tokenizer': None}\n"
     ]
    }
   ],
   "source": [
    "print(hv.get_params())"
   ]
  },
  {
   "cell_type": "code",
   "execution_count": 69,
   "metadata": {},
   "outputs": [
    {
     "ename": "NameError",
     "evalue": "name 'x' is not defined",
     "output_type": "error",
     "traceback": [
      "\u001b[1;31m-------------------------------------------------------\u001b[0m",
      "\u001b[1;31mNameError\u001b[0m             Traceback (most recent call last)",
      "\u001b[1;32m<ipython-input-69-0683bb611287>\u001b[0m in \u001b[0;36m<module>\u001b[1;34m\u001b[0m\n\u001b[0;32m      1\u001b[0m \u001b[1;31m# #Test Splits\u001b[0m\u001b[1;33m\u001b[0m\u001b[1;33m\u001b[0m\u001b[1;33m\u001b[0m\u001b[0m\n\u001b[0;32m      2\u001b[0m \u001b[1;32mfrom\u001b[0m \u001b[0msklearn\u001b[0m\u001b[1;33m.\u001b[0m\u001b[0mmodel_selection\u001b[0m \u001b[1;32mimport\u001b[0m \u001b[0mtrain_test_split\u001b[0m\u001b[1;33m\u001b[0m\u001b[1;33m\u001b[0m\u001b[0m\n\u001b[1;32m----> 3\u001b[1;33m \u001b[0mx_train\u001b[0m\u001b[1;33m,\u001b[0m \u001b[0mx_test\u001b[0m\u001b[1;33m,\u001b[0m \u001b[0my_train\u001b[0m\u001b[1;33m,\u001b[0m \u001b[0my_test\u001b[0m \u001b[1;33m=\u001b[0m \u001b[0mtrain_test_split\u001b[0m\u001b[1;33m(\u001b[0m\u001b[0mx\u001b[0m\u001b[1;33m,\u001b[0m \u001b[0my\u001b[0m\u001b[1;33m,\u001b[0m \u001b[0mtest_size\u001b[0m\u001b[1;33m=\u001b[0m\u001b[1;36m0.25\u001b[0m\u001b[1;33m,\u001b[0m \u001b[0mrandom_state\u001b[0m\u001b[1;33m=\u001b[0m\u001b[1;36m0\u001b[0m\u001b[1;33m)\u001b[0m\u001b[1;33m\u001b[0m\u001b[1;33m\u001b[0m\u001b[0m\n\u001b[0m",
      "\u001b[1;31mNameError\u001b[0m: name 'x' is not defined"
     ]
    }
   ],
   "source": [
    "# #Test Splits\n",
    "from sklearn.model_selection import train_test_split\n",
    "x_train, x_test, y_train, y_test = train_test_split(x, y, test_size=0.25, random_state=0)\n"
   ]
  },
  {
   "cell_type": "code",
   "execution_count": null,
   "metadata": {},
   "outputs": [],
   "source": []
  },
  {
   "cell_type": "code",
   "execution_count": null,
   "metadata": {},
   "outputs": [],
   "source": []
  },
  {
   "cell_type": "code",
   "execution_count": null,
   "metadata": {},
   "outputs": [],
   "source": []
  },
  {
   "cell_type": "code",
   "execution_count": null,
   "metadata": {},
   "outputs": [],
   "source": []
  },
  {
   "cell_type": "code",
   "execution_count": null,
   "metadata": {},
   "outputs": [],
   "source": []
  },
  {
   "cell_type": "code",
   "execution_count": null,
   "metadata": {},
   "outputs": [],
   "source": []
  },
  {
   "cell_type": "code",
   "execution_count": null,
   "metadata": {},
   "outputs": [],
   "source": []
  },
  {
   "cell_type": "code",
   "execution_count": null,
   "metadata": {},
   "outputs": [],
   "source": []
  },
  {
   "cell_type": "code",
   "execution_count": null,
   "metadata": {},
   "outputs": [],
   "source": []
  },
  {
   "cell_type": "code",
   "execution_count": null,
   "metadata": {},
   "outputs": [],
   "source": []
  },
  {
   "cell_type": "code",
   "execution_count": null,
   "metadata": {},
   "outputs": [],
   "source": []
  },
  {
   "cell_type": "code",
   "execution_count": null,
   "metadata": {},
   "outputs": [],
   "source": []
  },
  {
   "cell_type": "code",
   "execution_count": null,
   "metadata": {},
   "outputs": [],
   "source": []
  },
  {
   "cell_type": "code",
   "execution_count": null,
   "metadata": {},
   "outputs": [],
   "source": []
  },
  {
   "cell_type": "code",
   "execution_count": null,
   "metadata": {},
   "outputs": [],
   "source": []
  },
  {
   "cell_type": "code",
   "execution_count": null,
   "metadata": {},
   "outputs": [],
   "source": []
  },
  {
   "cell_type": "code",
   "execution_count": null,
   "metadata": {},
   "outputs": [],
   "source": []
  },
  {
   "cell_type": "code",
   "execution_count": null,
   "metadata": {},
   "outputs": [],
   "source": []
  },
  {
   "cell_type": "code",
   "execution_count": null,
   "metadata": {},
   "outputs": [],
   "source": []
  }
 ],
 "metadata": {
  "colab": {
   "collapsed_sections": [],
   "name": "Basic_Text_Representation.ipynb",
   "provenance": []
  },
  "kernelspec": {
   "display_name": "Python 3",
   "language": "python",
   "name": "python3"
  },
  "language_info": {
   "codemirror_mode": {
    "name": "ipython",
    "version": 3
   },
   "file_extension": ".py",
   "mimetype": "text/x-python",
   "name": "python",
   "nbconvert_exporter": "python",
   "pygments_lexer": "ipython3",
   "version": "3.7.6"
  }
 },
 "nbformat": 4,
 "nbformat_minor": 1
}
